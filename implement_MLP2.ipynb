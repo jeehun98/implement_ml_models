{
  "nbformat": 4,
  "nbformat_minor": 0,
  "metadata": {
    "colab": {
      "provenance": []
    },
    "kernelspec": {
      "name": "python3",
      "display_name": "Python 3"
    },
    "language_info": {
      "name": "python"
    }
  },
  "cells": [
    {
      "cell_type": "code",
      "execution_count": 509,
      "metadata": {
        "id": "qLrSxlPX-RU8"
      },
      "outputs": [],
      "source": [
        "import numpy as np"
      ]
    },
    {
      "cell_type": "code",
      "source": [
        "import sympy"
      ],
      "metadata": {
        "id": "NAjzHNiaMZXx"
      },
      "execution_count": 510,
      "outputs": []
    },
    {
      "cell_type": "code",
      "execution_count": 511,
      "metadata": {
        "id": "L5fJ72pEZEui"
      },
      "outputs": [],
      "source": [
        "perch_length = np.array(\n",
        "    [8.4, 13.7, 15.0, 16.2, 17.4, 18.0, 18.7, 19.0, 19.6, 20.0, \n",
        "     21.0, 21.0, 21.0, 21.3, 22.0, 22.0, 22.0, 22.0, 22.0, 22.5, \n",
        "     22.5, 22.7, 23.0, 23.5, 24.0, 24.0, 24.6, 25.0, 25.6, 26.5, \n",
        "     27.3, 27.5, 27.5, 27.5, 28.0, 28.7, 30.0, 32.8, 34.5, 35.0, \n",
        "     36.5, 36.0, 37.0, 37.0, 39.0, 39.0, 39.0, 40.0, 40.0, 40.0, \n",
        "     40.0, 42.0, 43.0, 43.0, 43.5, 44.0]\n",
        "     )\n",
        "perch_weight = np.array(\n",
        "    [5.9, 32.0, 40.0, 51.5, 70.0, 100.0, 78.0, 80.0, 85.0, 85.0, \n",
        "     110.0, 115.0, 125.0, 130.0, 120.0, 120.0, 130.0, 135.0, 110.0, \n",
        "     130.0, 150.0, 145.0, 150.0, 170.0, 225.0, 145.0, 188.0, 180.0, \n",
        "     197.0, 218.0, 300.0, 260.0, 265.0, 250.0, 250.0, 300.0, 320.0, \n",
        "     514.0, 556.0, 840.0, 685.0, 700.0, 700.0, 690.0, 900.0, 650.0, \n",
        "     820.0, 850.0, 900.0, 1015.0, 820.0, 1100.0, 1000.0, 1100.0, \n",
        "     1000.0, 1000.0]\n",
        "     )"
      ]
    },
    {
      "cell_type": "code",
      "source": [
        "class Dense:\n",
        "  \"\"\"\n",
        "  완전 연결층의 연산을 하는 Dense 층, 가중치를 임의로 생성하거나, 입력받아 연산을 수행하고,\n",
        "  그 값을 다음 층의 노드로 전달한다. (중간층, 결과층)\n",
        "  \"\"\"\n",
        "  # 가중치 w\n",
        "  w = []\n",
        "  # 입력에 편향 벡터를 추가하기 위한 열이 추가된 데이터\n",
        "  x_b = []\n",
        "\n",
        "  def cal_dense(self, input, unit):\n",
        "    \"\"\"\n",
        "    랜덤한 가중치를 생성하여 입력 값과 다음 층에 대한 내적 연산을 수행하는 함수\n",
        "    args\n",
        "      input : 입력 데이터\n",
        "      unit : 은닉층 노드의 개수(다음층의 노드 개수)\n",
        "    return \n",
        "      각 가중치 별 입력 데이터와의 연산 결과\n",
        "    \"\"\"\n",
        "    # 입력 데이터에 편향 가중치를 위한 열, 1의 추가\n",
        "    self.x_b = np.c_[input, np.ones((input.shape[0],1))]\n",
        "    \n",
        "    # 가중치 w의 생성\n",
        "    self.w = np.random.rand(self.x_b.shape[0], unit)\n",
        "\n",
        "    return input.T.dot(self.w)\n",
        "\n",
        "  def cal_dense_weight(self, input, weight, unit):\n",
        "    \"\"\"\n",
        "    가중치를 입력받아 입력값과의 내적 연산, 이 때 가중치는 편향 가중치가 마지막 열에 존재하는 형태\n",
        "    args\n",
        "      input : 입력 데이터\n",
        "      weight : 가중치\n",
        "      unit : 다음층의 노드 개수\n",
        "    return\n",
        "      각 가중치 별 입력 데이터와의 연산 결과\n",
        "    \"\"\"\n",
        "    # 입력 데이터에 편향 가중치를 위한 열, 1의 추가\n",
        "    self.x_b = np.c_[input, np.ones((input.shape[0],1))]\n",
        "    self.w = weight\n",
        "\n",
        "    return input.T.dot(self.w)"
      ],
      "metadata": {
        "id": "PRFeTHujumGD"
      },
      "execution_count": 512,
      "outputs": []
    },
    {
      "cell_type": "code",
      "source": [
        "class activation:\n",
        "  \"\"\"\n",
        "  각 활성화 함수의 정의\n",
        "  \"\"\"\n",
        "  # 활성화 함수\n",
        "  fx = 0\n",
        "\n",
        "  # 활성화 함수의 미분ㄱ밧\n",
        "  dfx = 0\n",
        "\n",
        "  def step_fun(self, input, threshold = 0):\n",
        "    \"\"\"\n",
        "    계단 함수, 임계값에 대한 입력을 받을 수 있다.\n",
        "    Args:\n",
        "      input : 입력값\n",
        "      threshold : 임계값, 기본값 = 0\n",
        "    Return:\n",
        "      각 입력에 대한 계단함수 연산 결과\n",
        "    \"\"\"\n",
        "    result = []\n",
        "\n",
        "    for i in range(input.shape[1]):\n",
        "      if(input[0][i] > threshold):\n",
        "        result.append(1)\n",
        "      else:\n",
        "        result.append(0)    \n",
        "    \n",
        "    return np.array(result).reshape(1, -1)\n",
        "\n",
        "  def sign_fun(self, input, threshold = 0):\n",
        "    \"\"\"\n",
        "    부호 함수 \n",
        "    입력이 0 미만일 경우 -1을 출력하고 0을 초과할 때 1을 출력, 0일 때 0을 출력\n",
        "    임곗값을 입력받아 지정할 수 있다.\n",
        "    Args:\n",
        "      input : 입력값\n",
        "      threshold : 임계값, 기본값 = 0\n",
        "    Return:\n",
        "      -1,0 or 1\n",
        "    \"\"\"\n",
        "    result = []\n",
        "\n",
        "    for i in range(input.shape[1]):\n",
        "      if(input[0][i] > threshold):\n",
        "        result.append(1)\n",
        "      elif (input[0][i] == threshold):\n",
        "        result.append(0)\n",
        "      else:\n",
        "        result.append(-1)\n",
        "    \n",
        "    return np.array(result).reshape(1, -1)\n",
        "\n",
        "  \n",
        "  def sigmoid_fun(self, input):\n",
        "    \"\"\"\n",
        "    시그모이드 함수\n",
        "    자연 상수의 지수 함수를 사용한 0~1 사이의 값 출력\n",
        "    Args:\n",
        "      x : 입력값\n",
        "    Return:\n",
        "      0~1 사이의 값\n",
        "    \"\"\"\n",
        "    x = sympy.Symbol('x')\n",
        "    e = sympy.Symbol('e')\n",
        "    result = []\n",
        "\n",
        "    fx = 1/(1+e**(-x))\n",
        "    self.fx = fx\n",
        "\n",
        "    dfx = sympy.diff(fx, x)\n",
        "    self.dfx = dfx\n",
        "\n",
        "    for i in range(input.shape[1]):\n",
        "      result.append(fx.subs([(e,np.e), (x,input[0][i])]))\n",
        "\n",
        "    return np.array(result).reshape(1, -1)\n",
        "\n",
        "  def hyperbolic_tangent(self, input):\n",
        "    \"\"\"\n",
        "    하이퍼볼릭 탄젠트 함수\n",
        "\n",
        "    시그모이드 함수를 변형한 함수\n",
        "    Args:\n",
        "      input : 입력값\n",
        "    Return:\n",
        "      -1 ~ 1\n",
        "    \"\"\"\n",
        "    x = sympy.Symbol('x')\n",
        "    e = sympy.Symbol('e')\n",
        "    result = []\n",
        "\n",
        "    fx = 2*(1/(1+e**-x))-1\n",
        "    self.fx = fx\n",
        "\n",
        "    dfx = sympy.diff(fx, x)\n",
        "    self.dfx = dfx\n",
        "\n",
        "    for i in range(input.shape[1]):\n",
        "      result.append(fx.subs([(e,np.e), (x,input[0][i])]))\n",
        "\n",
        "    return np.array(result).reshape(1, -1)\n",
        "\n",
        "  def relu(self, input, threshold = 0):\n",
        "    \"\"\"\n",
        "    렐루 함수\n",
        "\n",
        "    입력값이 0 이하면 0을 출력, 양수이면 그대로 그 값을 출력\n",
        "    Args:\n",
        "      input : 입력값\n",
        "      threshold : 임계값, 기본값 = 0\n",
        "    Return:\n",
        "      0 ~ \n",
        "    \"\"\" \n",
        "    result = []\n",
        "\n",
        "    for i in range(input.shape[1]):\n",
        "      if(input[0][i] > threshold):\n",
        "        result.append(input[0][i])\n",
        "      else:\n",
        "        result.append(0)\n",
        "\n",
        "    return np.array(result).reshape(1, -1)\n",
        "\n",
        "  def leaky_relu(self, input, threshold, a=0.01):\n",
        "    \"\"\"\n",
        "    리키 렐루 함수\n",
        "\n",
        "    입력값이 0 이하면 기울기 a를 곱한 값을 출력, 양수이면 그대로 그 값을 출력\n",
        "    Args:\n",
        "      input : 입력값\n",
        "      threshold : 임계값\n",
        "      a : 기울기(기본값 0.01)\n",
        "    Return:\n",
        "      연산 결과\n",
        "    \"\"\"\n",
        "    result = []\n",
        "\n",
        "    for i in range(input.shape[1]):\n",
        "      if(input[0][i] > threshold):\n",
        "        result.append(input[0][i])\n",
        "      else:\n",
        "        result.append(input[0][i]*a)\n",
        "\n",
        "    return np.array(result).reshape(1, -1)\n",
        "\n",
        "  def softmax_fun(self, input):\n",
        "    \"\"\"\n",
        "    소프트 맥스 함수\n",
        "\n",
        "    입력 리스트들에 대한 각 요소들의 비율, 확률을 계산\n",
        "    오버플로를 예방하기 위한 최댓값을 빼주는 과정\n",
        "    Args:\n",
        "      input : 입력값\n",
        "    Returen:\n",
        "      연산 결과\n",
        "    \"\"\"\n",
        "    sum = 0\n",
        "    max_input = max(input[0])\n",
        "    result = []\n",
        "\n",
        "    for i in range(input.shape[1]):\n",
        "      sum += np.e**(input[0][i] - max_input)\n",
        "\n",
        "    for i in range(input.shape[1]):\n",
        "      result.append(np.e**(input[0][i] - max_input) / sum)\n",
        "\n",
        "    return np.array(result).reshape(1, -1)\n"
      ],
      "metadata": {
        "id": "7A7H9t5OM0cG"
      },
      "execution_count": 513,
      "outputs": []
    },
    {
      "cell_type": "code",
      "source": [
        "class Mlp(Dense, activation):\n",
        "  def a(self):\n",
        "    print('a')"
      ],
      "metadata": {
        "id": "tN6hmDBvugLe"
      },
      "execution_count": 514,
      "outputs": []
    },
    {
      "cell_type": "code",
      "source": [
        "perch_length = perch_length.reshape(-1,1)"
      ],
      "metadata": {
        "id": "1B3jD8Fwjgv8"
      },
      "execution_count": 515,
      "outputs": []
    },
    {
      "cell_type": "code",
      "source": [
        "mlp = Mlp()"
      ],
      "metadata": {
        "id": "NQGN3WnzvDyl"
      },
      "execution_count": 516,
      "outputs": []
    },
    {
      "cell_type": "code",
      "source": [
        "hidden_input = mlp.cal_dense(perch_length, 2)\n",
        "hidden_input"
      ],
      "metadata": {
        "colab": {
          "base_uri": "https://localhost:8080/"
        },
        "id": "6X5X5zSVvGrQ",
        "outputId": "78c602bb-4f05-45dd-cf4d-6a35933987dc"
      },
      "execution_count": 517,
      "outputs": [
        {
          "output_type": "execute_result",
          "data": {
            "text/plain": [
              "array([[760.56011734, 819.66983917]])"
            ]
          },
          "metadata": {},
          "execution_count": 517
        }
      ]
    },
    {
      "cell_type": "code",
      "source": [
        "hidden_input[0][1]"
      ],
      "metadata": {
        "colab": {
          "base_uri": "https://localhost:8080/"
        },
        "id": "Ket7GLR3kRFE",
        "outputId": "e533ab88-abd3-40c3-f817-12755b82a9c6"
      },
      "execution_count": 518,
      "outputs": [
        {
          "output_type": "execute_result",
          "data": {
            "text/plain": [
              "819.6698391742265"
            ]
          },
          "metadata": {},
          "execution_count": 518
        }
      ]
    },
    {
      "cell_type": "code",
      "source": [
        "activation_step_result = mlp.step_fun(hidden_input, 0)\n",
        "activation_step_result"
      ],
      "metadata": {
        "colab": {
          "base_uri": "https://localhost:8080/"
        },
        "id": "X0mBfkUOjlzj",
        "outputId": "07a3337e-db0f-438e-a578-c2454a2ca990"
      },
      "execution_count": 519,
      "outputs": [
        {
          "output_type": "execute_result",
          "data": {
            "text/plain": [
              "array([[1, 1]])"
            ]
          },
          "metadata": {},
          "execution_count": 519
        }
      ]
    },
    {
      "cell_type": "code",
      "source": [
        "activation_sign_result = mlp.sign_fun(hidden_input, 800)\n",
        "activation_sign_result"
      ],
      "metadata": {
        "colab": {
          "base_uri": "https://localhost:8080/"
        },
        "id": "n5nfYzvAkAmS",
        "outputId": "e968dae2-965f-47ec-b481-c4c3635e96b2"
      },
      "execution_count": 520,
      "outputs": [
        {
          "output_type": "execute_result",
          "data": {
            "text/plain": [
              "array([[-1,  1]])"
            ]
          },
          "metadata": {},
          "execution_count": 520
        }
      ]
    },
    {
      "cell_type": "code",
      "source": [
        "activation_sigmoid_result = mlp.sigmoid_fun(hidden_input)\n",
        "activation_sigmoid_result"
      ],
      "metadata": {
        "colab": {
          "base_uri": "https://localhost:8080/"
        },
        "id": "KyD8bqBjlNj0",
        "outputId": "250cf781-43ac-4fcb-cc37-e436d18b18dd"
      },
      "execution_count": 521,
      "outputs": [
        {
          "output_type": "execute_result",
          "data": {
            "text/plain": [
              "array([[1.00000000000000, 1.00000000000000]], dtype=object)"
            ]
          },
          "metadata": {},
          "execution_count": 521
        }
      ]
    },
    {
      "cell_type": "code",
      "source": [
        "hyperbolic_tangent_result  = mlp.hyperbolic_tangent(hidden_input)\n",
        "hyperbolic_tangent_result"
      ],
      "metadata": {
        "colab": {
          "base_uri": "https://localhost:8080/"
        },
        "id": "bBahGXpPDzxj",
        "outputId": "adb9ef81-73e4-49fa-a27c-42ba8e362cad"
      },
      "execution_count": 522,
      "outputs": [
        {
          "output_type": "execute_result",
          "data": {
            "text/plain": [
              "array([[1.00000000000000, 1.00000000000000]], dtype=object)"
            ]
          },
          "metadata": {},
          "execution_count": 522
        }
      ]
    },
    {
      "cell_type": "code",
      "source": [
        "relu_result = mlp.relu(hidden_input)\n",
        "relu_result"
      ],
      "metadata": {
        "colab": {
          "base_uri": "https://localhost:8080/"
        },
        "id": "Ph6jvf3NEqHt",
        "outputId": "b12d3b30-d415-4f93-e528-d793cd6d372f"
      },
      "execution_count": 523,
      "outputs": [
        {
          "output_type": "execute_result",
          "data": {
            "text/plain": [
              "array([[760.56011734, 819.66983917]])"
            ]
          },
          "metadata": {},
          "execution_count": 523
        }
      ]
    },
    {
      "cell_type": "code",
      "source": [
        "leaky_relu_result = mlp.relu(hidden_input)\n",
        "leaky_relu_result"
      ],
      "metadata": {
        "colab": {
          "base_uri": "https://localhost:8080/"
        },
        "id": "7vV8XudMFTzd",
        "outputId": "065811cd-36f8-45bb-e895-97bd092544fc"
      },
      "execution_count": 524,
      "outputs": [
        {
          "output_type": "execute_result",
          "data": {
            "text/plain": [
              "array([[760.56011734, 819.66983917]])"
            ]
          },
          "metadata": {},
          "execution_count": 524
        }
      ]
    },
    {
      "cell_type": "code",
      "source": [
        "softmax_result = mlp.softmax_fun(hidden_input)\n",
        "softmax_result"
      ],
      "metadata": {
        "colab": {
          "base_uri": "https://localhost:8080/"
        },
        "id": "7AK1cyvMHlPj",
        "outputId": "b41be88a-4653-408a-88f2-1326cd4c8160"
      },
      "execution_count": 525,
      "outputs": [
        {
          "output_type": "execute_result",
          "data": {
            "text/plain": [
              "array([[2.13291712e-26, 1.00000000e+00]])"
            ]
          },
          "metadata": {},
          "execution_count": 525
        }
      ]
    },
    {
      "cell_type": "code",
      "source": [
        "mlp.fx"
      ],
      "metadata": {
        "colab": {
          "base_uri": "https://localhost:8080/",
          "height": 52
        },
        "id": "fx4aWh40CbmN",
        "outputId": "1b77cf57-7bff-49c4-8de4-7f74291febfd"
      },
      "execution_count": 526,
      "outputs": [
        {
          "output_type": "execute_result",
          "data": {
            "text/plain": [
              "-1 + 2/(1 + e**(-x))"
            ],
            "text/latex": "$\\displaystyle -1 + \\frac{2}{1 + e^{- x}}$"
          },
          "metadata": {},
          "execution_count": 526
        }
      ]
    },
    {
      "cell_type": "code",
      "source": [],
      "metadata": {
        "id": "1GrUjRKGDA8E"
      },
      "execution_count": 526,
      "outputs": []
    }
  ]
}
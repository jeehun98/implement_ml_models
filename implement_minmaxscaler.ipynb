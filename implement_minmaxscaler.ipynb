{
  "nbformat": 4,
  "nbformat_minor": 0,
  "metadata": {
    "colab": {
      "provenance": []
    },
    "kernelspec": {
      "name": "python3",
      "display_name": "Python 3"
    },
    "language_info": {
      "name": "python"
    }
  },
  "cells": [
    {
      "cell_type": "code",
      "execution_count": 22,
      "metadata": {
        "id": "QY1LdsDlPfaX"
      },
      "outputs": [],
      "source": [
        "from sklearn import datasets\n",
        "raw_iris = datasets.load_iris()"
      ]
    },
    {
      "cell_type": "code",
      "source": [
        "X = raw_iris.data\n",
        "y = raw_iris.target"
      ],
      "metadata": {
        "id": "JfTNGgzJPmUr"
      },
      "execution_count": 23,
      "outputs": []
    },
    {
      "cell_type": "code",
      "source": [
        "X.shape"
      ],
      "metadata": {
        "colab": {
          "base_uri": "https://localhost:8080/"
        },
        "id": "GS_8GwclxMjz",
        "outputId": "ca2bc420-4162-4ae3-eb11-f09923e78462"
      },
      "execution_count": 24,
      "outputs": [
        {
          "output_type": "execute_result",
          "data": {
            "text/plain": [
              "(150, 4)"
            ]
          },
          "metadata": {},
          "execution_count": 24
        }
      ]
    },
    {
      "cell_type": "code",
      "source": [
        "x_min = []\n",
        "x_max = []\n",
        "for i in range(X.shape[1]):\n",
        "  x_min.append(min(X[:,i]))\n",
        "  x_max.append(max(X[:,i]))"
      ],
      "metadata": {
        "id": "g2663VaXRcEm"
      },
      "execution_count": 25,
      "outputs": []
    },
    {
      "cell_type": "code",
      "source": [
        "x_min"
      ],
      "metadata": {
        "colab": {
          "base_uri": "https://localhost:8080/"
        },
        "id": "HueHG56IUBYV",
        "outputId": "b4435820-4c83-4699-cf35-d0a5ad63c56a"
      },
      "execution_count": 26,
      "outputs": [
        {
          "output_type": "execute_result",
          "data": {
            "text/plain": [
              "[4.3, 2.0, 1.0, 0.1]"
            ]
          },
          "metadata": {},
          "execution_count": 26
        }
      ]
    },
    {
      "cell_type": "code",
      "source": [
        "x_max"
      ],
      "metadata": {
        "colab": {
          "base_uri": "https://localhost:8080/"
        },
        "id": "Gf7-B-bFx1yV",
        "outputId": "d8536bc0-83c1-475d-bebd-30b6a681d51a"
      },
      "execution_count": 27,
      "outputs": [
        {
          "output_type": "execute_result",
          "data": {
            "text/plain": [
              "[7.9, 4.4, 6.9, 2.5]"
            ]
          },
          "metadata": {},
          "execution_count": 27
        }
      ]
    },
    {
      "cell_type": "code",
      "source": [
        "x_deviation = [x_max - x_min for x_max, x_min in zip(x_max, x_min)]\n",
        "x_deviation"
      ],
      "metadata": {
        "colab": {
          "base_uri": "https://localhost:8080/"
        },
        "id": "rQeY0kdn3ShB",
        "outputId": "8ea533a1-61b6-4596-dc4f-d2908372fcc8"
      },
      "execution_count": 30,
      "outputs": [
        {
          "output_type": "execute_result",
          "data": {
            "text/plain": [
              "[3.6000000000000005, 2.4000000000000004, 5.9, 2.4]"
            ]
          },
          "metadata": {},
          "execution_count": 30
        }
      ]
    },
    {
      "cell_type": "code",
      "source": [
        "(X - x_min) / x_deviation"
      ],
      "metadata": {
        "id": "rluHlnXX2Pwz"
      },
      "execution_count": null,
      "outputs": []
    },
    {
      "cell_type": "code",
      "source": [
        "def min_max_scaling(X):\n",
        "  \"\"\"\n",
        "  min_max scaling 함수\n",
        "  Arg:\n",
        "    X : 스케일링 할 데이터\n",
        "  Return :\n",
        "    min-max 스케일링 후 데이터\n",
        "  \"\"\"\n",
        "  x_min = []\n",
        "  x_max = []\n",
        "  for i in range(X.shape[1]):\n",
        "    x_min.append(min(X[:,i]))\n",
        "    x_max.append(max(X[:,i]))\n",
        "\n",
        "  x_deviation = [x_max - x_min for x_max, x_min in zip(x_max, x_min)]\n",
        "  \n",
        "  return (X - x_min) / x_deviation"
      ],
      "metadata": {
        "id": "qQV8f3Lw2iCx"
      },
      "execution_count": 32,
      "outputs": []
    },
    {
      "cell_type": "code",
      "source": [
        "min_max_scaling(X)"
      ],
      "metadata": {
        "id": "nCfMHVPs49Wc"
      },
      "execution_count": null,
      "outputs": []
    }
  ]
}
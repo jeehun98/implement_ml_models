{
  "nbformat": 4,
  "nbformat_minor": 0,
  "metadata": {
    "colab": {
      "provenance": []
    },
    "kernelspec": {
      "name": "python3",
      "display_name": "Python 3"
    },
    "language_info": {
      "name": "python"
    }
  },
  "cells": [
    {
      "cell_type": "code",
      "source": [
        "import numpy as np"
      ],
      "metadata": {
        "id": "K5FuviIakRP0"
      },
      "execution_count": 2,
      "outputs": []
    },
    {
      "cell_type": "code",
      "execution_count": 3,
      "metadata": {
        "id": "I6Qrv9KKN0xm"
      },
      "outputs": [],
      "source": [
        "def generate_time_series(batch_size, n_steps):\n",
        "  freq1, freq2, offsets1, offsets2 = np.random.rand(4, batch_size, 1)\n",
        "  time = np.linspace(0, 1, n_steps)\n",
        "  series = 0.5 * np.sin((time - offsets1) * (freq1 * 10 + 10))\n",
        "  series += 0.2 * np.sin((time - offsets2) * (freq2 * 20 + 20))\n",
        "  series += 0.1 * (np.random.rand(batch_size, n_steps) - 0.5 )\n",
        "  return series[..., np.newaxis].astype(np.float32)"
      ]
    },
    {
      "cell_type": "code",
      "source": [
        "n_steps = 50\n",
        "series = generate_time_series(10000, n_steps + 1)"
      ],
      "metadata": {
        "id": "KQa9Ovxqk495"
      },
      "execution_count": 4,
      "outputs": []
    },
    {
      "cell_type": "markdown",
      "source": [
        "시계열 데이터 생성"
      ],
      "metadata": {
        "id": "ec_6vhYmsJFP"
      }
    },
    {
      "cell_type": "code",
      "source": [
        "freq1, freq2, offsets1, offsets2 = np.random.rand(4, 1, 1)\n",
        "time = np.linspace(0, 1, n_steps)\n",
        "series = 0.5 * np.sin((time - offsets1) * (freq1 * 10 + 10))\n",
        "series += 0.2 * np.sin((time - offsets2) * (freq2 * 20 + 20))\n",
        "series += 0.1 * (np.random.rand(1, n_steps) - 0.5 )"
      ],
      "metadata": {
        "id": "H11vso8OoVjo"
      },
      "execution_count": 13,
      "outputs": []
    },
    {
      "cell_type": "code",
      "source": [
        "series"
      ],
      "metadata": {
        "colab": {
          "base_uri": "https://localhost:8080/"
        },
        "id": "3tMJsO__q9uP",
        "outputId": "0f7d6fbd-c11c-4c1c-a4a5-2ba2a82120c5"
      },
      "execution_count": 15,
      "outputs": [
        {
          "output_type": "execute_result",
          "data": {
            "text/plain": [
              "array([[-0.35673157, -0.33639976, -0.31743675, -0.34115742, -0.32656263,\n",
              "        -0.24998275,  0.07331694,  0.38519787,  0.60865264,  0.73036077,\n",
              "         0.55735933,  0.39398621,  0.09165056, -0.05851008, -0.12649658,\n",
              "        -0.07281405, -0.12551043, -0.27900223, -0.4587787 , -0.63741777,\n",
              "        -0.58437358, -0.40044789, -0.12356783,  0.15126937,  0.40006771,\n",
              "         0.50910362,  0.46081049,  0.33350664,  0.3041771 ,  0.28381928,\n",
              "         0.29187867,  0.19713461,  0.1559762 , -0.14785924, -0.467555  ,\n",
              "        -0.62549536, -0.67089651, -0.54876007, -0.3267191 , -0.01804445,\n",
              "         0.1110917 ,  0.19891851,  0.24169648,  0.23989095,  0.26021834,\n",
              "         0.46459381,  0.58920696,  0.577133  ,  0.3730943 ,  0.1068261 ]])"
            ]
          },
          "metadata": {},
          "execution_count": 15
        }
      ]
    },
    {
      "cell_type": "code",
      "source": [
        "w1 = np.random.rand()\n",
        "w1"
      ],
      "metadata": {
        "colab": {
          "base_uri": "https://localhost:8080/"
        },
        "id": "qVP9-jT4q-qS",
        "outputId": "945ea194-7565-49a1-caac-cc377a980152"
      },
      "execution_count": 17,
      "outputs": [
        {
          "output_type": "execute_result",
          "data": {
            "text/plain": [
              "0.07562909096681703"
            ]
          },
          "metadata": {},
          "execution_count": 17
        }
      ]
    },
    {
      "cell_type": "code",
      "source": [],
      "metadata": {
        "id": "KDYREjvQvqCW"
      },
      "execution_count": null,
      "outputs": []
    }
  ]
}
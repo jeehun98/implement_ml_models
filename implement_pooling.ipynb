{
  "nbformat": 4,
  "nbformat_minor": 0,
  "metadata": {
    "colab": {
      "provenance": []
    },
    "kernelspec": {
      "name": "python3",
      "display_name": "Python 3"
    },
    "language_info": {
      "name": "python"
    }
  },
  "cells": [
    {
      "cell_type": "code",
      "source": [
        "import numpy as np"
      ],
      "metadata": {
        "id": "htyuMje6Hr0Q"
      },
      "execution_count": 3,
      "outputs": []
    },
    {
      "cell_type": "code",
      "execution_count": 4,
      "metadata": {
        "colab": {
          "base_uri": "https://localhost:8080/"
        },
        "id": "Ss3nT1yDFgL0",
        "outputId": "8abc7ecb-59f4-42d8-e71f-71f2f0acdf85"
      },
      "outputs": [
        {
          "output_type": "execute_result",
          "data": {
            "text/plain": [
              "array([[0.38203812, 0.61026002, 0.42958915, 0.13293676],\n",
              "       [0.03702325, 0.61222828, 0.74483848, 0.88772048],\n",
              "       [0.61636566, 0.80591997, 0.26425462, 0.91300203],\n",
              "       [0.10762359, 0.18764455, 0.25654662, 0.99585766]])"
            ]
          },
          "metadata": {},
          "execution_count": 4
        }
      ],
      "source": [
        "input = np.random.random(16).reshape(4,4)\n",
        "input"
      ]
    },
    {
      "cell_type": "code",
      "source": [
        "stride_row = 2\n",
        "stride_col = 2\n",
        "\n",
        "pool_row = 2\n",
        "pool_col = 2\n",
        "\n",
        "result_arr = []\n",
        "\n",
        "for matrix_row in range(0, input.shape[0], stride_row):\n",
        "  for matrix_col in range(0, input.shape[1], stride_col):\n",
        "    result = []\n",
        "    for row in range(pool_row):\n",
        "      for col in range(pool_col):\n",
        "        result.append(input[matrix_row+row,matrix_col+col])\n",
        "    \n",
        "    result_arr.append(result)"
      ],
      "metadata": {
        "id": "_AdalAPuIEfr"
      },
      "execution_count": 8,
      "outputs": []
    },
    {
      "cell_type": "code",
      "source": [
        "result_arr"
      ],
      "metadata": {
        "colab": {
          "base_uri": "https://localhost:8080/"
        },
        "id": "KCKmPCOtbNkr",
        "outputId": "9034bf13-d757-4b06-98a0-866a40a2e372"
      },
      "execution_count": 17,
      "outputs": [
        {
          "output_type": "execute_result",
          "data": {
            "text/plain": [
              "[[0.38203811820619415,\n",
              "  0.6102600241981614,\n",
              "  0.03702325360020031,\n",
              "  0.6122282802599492],\n",
              " [0.42958914664126246,\n",
              "  0.13293675521995207,\n",
              "  0.7448384803867185,\n",
              "  0.8877204781689831],\n",
              " [0.6163656558319145,\n",
              "  0.8059199687656202,\n",
              "  0.10762359280522771,\n",
              "  0.18764455011806336],\n",
              " [0.26425461743329515,\n",
              "  0.9130020263786507,\n",
              "  0.2565466199189961,\n",
              "  0.9958576636403617]]"
            ]
          },
          "metadata": {},
          "execution_count": 17
        }
      ]
    },
    {
      "cell_type": "code",
      "source": [
        "max_pooling = []\n",
        "\n",
        "for i in range(len(result_arr)):\n",
        "  max_pooling.append(np.max(result_arr[i]))"
      ],
      "metadata": {
        "id": "tfx7xgprW7P4"
      },
      "execution_count": 24,
      "outputs": []
    },
    {
      "cell_type": "code",
      "source": [
        "max_pooling"
      ],
      "metadata": {
        "colab": {
          "base_uri": "https://localhost:8080/"
        },
        "id": "v1xRuLgGbSCe",
        "outputId": "83ffc4dc-9d3e-4060-dfa4-a8c2b986edeb"
      },
      "execution_count": 25,
      "outputs": [
        {
          "output_type": "execute_result",
          "data": {
            "text/plain": [
              "[0.6122282802599492,\n",
              " 0.8877204781689831,\n",
              " 0.8059199687656202,\n",
              " 0.9958576636403617]"
            ]
          },
          "metadata": {},
          "execution_count": 25
        }
      ]
    },
    {
      "cell_type": "code",
      "source": [
        "stride_row = 2\n",
        "stride_col = 2\n",
        "\n",
        "pool_row = 2\n",
        "pool_col = 2\n",
        "\n",
        "result_arr = []\n",
        "\n",
        "for matrix_row in range(0, input.shape[0], stride_row):\n",
        "  for matrix_col in range(0, input.shape[1], stride_col):\n",
        "    result = []\n",
        "    for row in range(pool_row):\n",
        "      for col in range(pool_col):\n",
        "        result.append(input[matrix_row+row,matrix_col+col])\n",
        "\n",
        "    result_arr.append(np.max(result))"
      ],
      "metadata": {
        "id": "xgecE0CNaoWI"
      },
      "execution_count": 26,
      "outputs": []
    },
    {
      "cell_type": "code",
      "source": [
        "result_arr"
      ],
      "metadata": {
        "colab": {
          "base_uri": "https://localhost:8080/"
        },
        "id": "4scZr51Lcoiz",
        "outputId": "6143c698-b3ec-4fdb-b3e4-f4e35879bad7"
      },
      "execution_count": 27,
      "outputs": [
        {
          "output_type": "execute_result",
          "data": {
            "text/plain": [
              "[0.6122282802599492,\n",
              " 0.8877204781689831,\n",
              " 0.8059199687656202,\n",
              " 0.9958576636403617]"
            ]
          },
          "metadata": {},
          "execution_count": 27
        }
      ]
    },
    {
      "cell_type": "code",
      "source": [],
      "metadata": {
        "id": "G2UvYnsfcpTc"
      },
      "execution_count": null,
      "outputs": []
    }
  ]
}
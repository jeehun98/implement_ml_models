{
  "nbformat": 4,
  "nbformat_minor": 0,
  "metadata": {
    "colab": {
      "provenance": []
    },
    "kernelspec": {
      "name": "python3",
      "display_name": "Python 3"
    },
    "language_info": {
      "name": "python"
    }
  },
  "cells": [
    {
      "cell_type": "code",
      "execution_count": 18,
      "metadata": {
        "id": "GjWYglY6i8on"
      },
      "outputs": [],
      "source": [
        "import numpy as np"
      ]
    },
    {
      "cell_type": "markdown",
      "source": [
        "입력 데이터 생성"
      ],
      "metadata": {
        "id": "20gCi3beG_AL"
      }
    },
    {
      "cell_type": "code",
      "source": [
        "input = np.random.random(16).reshape(4,4)\n",
        "input"
      ],
      "metadata": {
        "colab": {
          "base_uri": "https://localhost:8080/"
        },
        "id": "G0c7aWLdx8VG",
        "outputId": "d2e7c2c3-b2bd-4f72-ff3d-47b0f6e876e2"
      },
      "execution_count": 19,
      "outputs": [
        {
          "output_type": "execute_result",
          "data": {
            "text/plain": [
              "array([[0.08794436, 0.91782939, 0.42781017, 0.78359012],\n",
              "       [0.89215971, 0.48278037, 0.06832524, 0.85638935],\n",
              "       [0.38328626, 0.5937976 , 0.96358295, 0.89101867],\n",
              "       [0.63568914, 0.34415864, 0.65291522, 0.78187485]])"
            ]
          },
          "metadata": {},
          "execution_count": 19
        }
      ]
    },
    {
      "cell_type": "markdown",
      "source": [
        "가중치 커널 생성"
      ],
      "metadata": {
        "id": "FlZdNk6SHSXN"
      }
    },
    {
      "cell_type": "code",
      "source": [
        "w = np.random.random(4).reshape(2,2)\n",
        "w"
      ],
      "metadata": {
        "colab": {
          "base_uri": "https://localhost:8080/"
        },
        "id": "-TpJqq7aHQHA",
        "outputId": "d5ff41ca-df6d-4eb2-9cc9-c35ef815b2a7"
      },
      "execution_count": 20,
      "outputs": [
        {
          "output_type": "execute_result",
          "data": {
            "text/plain": [
              "array([[0.98888509, 0.85977637],\n",
              "       [0.62117053, 0.92332707]])"
            ]
          },
          "metadata": {},
          "execution_count": 20
        }
      ]
    },
    {
      "cell_type": "markdown",
      "source": [
        "합성곱 신경망의 연산은 커널을 플립하지 않은 연산, cross-corelation 을 더 많이 사용한다.\n",
        "\n",
        "동일한 두 크기의 행렬의 원소 곱으로 계산할 수 있을 것"
      ],
      "metadata": {
        "id": "qqhAVz7zICfE"
      }
    },
    {
      "cell_type": "code",
      "source": [
        "row = []\n",
        "matrix = []\n",
        "\n",
        "for matrix_row in range(input.shape[0]-w.shape[0]+1):\n",
        "  for matrix_col in range(input.shape[1]-w.shape[1]+1):\n",
        "    matrix = []\n",
        "    for w_row in range(w.shape[0]):\n",
        "      row = []\n",
        "      for w_col in range(w.shape[1]):\n",
        "        row.append(input[matrix_row+w_row,matrix_col+w_col])\n",
        "      matrix.append(row)\n",
        "    print(matrix) "
      ],
      "metadata": {
        "colab": {
          "base_uri": "https://localhost:8080/"
        },
        "id": "QLESkEktG8ms",
        "outputId": "5dd3614f-e79e-47a3-fe3f-c8a48a16b7c1"
      },
      "execution_count": 21,
      "outputs": [
        {
          "output_type": "stream",
          "name": "stdout",
          "text": [
            "[[0.08794435949106072, 0.9178293902430296], [0.8921597075033024, 0.4827803749965519]]\n",
            "[[0.9178293902430296, 0.4278101747670303], [0.4827803749965519, 0.06832524035761711]]\n",
            "[[0.4278101747670303, 0.7835901215728238], [0.06832524035761711, 0.8563893450969843]]\n",
            "[[0.8921597075033024, 0.4827803749965519], [0.3832862613887482, 0.593797604592225]]\n",
            "[[0.4827803749965519, 0.06832524035761711], [0.593797604592225, 0.9635829510402968]]\n",
            "[[0.06832524035761711, 0.8563893450969843], [0.9635829510402968, 0.8910186683098356]]\n",
            "[[0.3832862613887482, 0.593797604592225], [0.6356891403292467, 0.34415864378772687]]\n",
            "[[0.593797604592225, 0.9635829510402968], [0.34415864378772687, 0.6529152211228911]]\n",
            "[[0.9635829510402968, 0.8910186683098356], [0.6529152211228911, 0.7818748488517875]]\n"
          ]
        }
      ]
    },
    {
      "cell_type": "code",
      "source": [
        "row = []\n",
        "matrix = []\n",
        "result = []\n",
        "\n",
        "for matrix_row in range(input.shape[0]-w.shape[0]+1):\n",
        "  for matrix_col in range(input.shape[1]-w.shape[1]+1):\n",
        "    matrix = []\n",
        "    for w_row in range(w.shape[0]):\n",
        "      row = []\n",
        "      for w_col in range(w.shape[1]):\n",
        "        row.append(input[matrix_row+w_row,matrix_col+w_col])\n",
        "      matrix.append(row)\n",
        "    result.append(matrix*w)\n",
        "\n",
        "result"
      ],
      "metadata": {
        "id": "zwRmNdHNQzv5",
        "colab": {
          "base_uri": "https://localhost:8080/"
        },
        "outputId": "5122b3bb-d9e2-4b0d-ecc0-afedd0f98b35"
      },
      "execution_count": 25,
      "outputs": [
        {
          "output_type": "execute_result",
          "data": {
            "text/plain": [
              "[array([[0.08696687, 0.78912802],\n",
              "        [0.55418332, 0.44576419]]), array([[0.9076278 , 0.36782108],\n",
              "        [0.29988894, 0.06308654]]), array([[0.4230551 , 0.67371227],\n",
              "        [0.04244163, 0.79072746]]), array([[0.88224343, 0.41508316],\n",
              "        [0.23808613, 0.5482694 ]]), array([[0.47741432, 0.05874443],\n",
              "        [0.36884957, 0.88970222]]), array([[0.06756581, 0.73630332],\n",
              "        [0.59854934, 0.82270165]]), array([[0.37902607, 0.51053315],\n",
              "        [0.39487136, 0.31777099]]), array([[0.5871976 , 0.82846585],\n",
              "        [0.21378121, 0.6028543 ]]), array([[0.95287281, 0.76607679],\n",
              "        [0.4055717 , 0.72192621]])]"
            ]
          },
          "metadata": {},
          "execution_count": 25
        }
      ]
    },
    {
      "cell_type": "code",
      "source": [
        "result_arr = []\n",
        "\n",
        "for matrix_row in range(input.shape[0]-w.shape[0]+1):\n",
        "  for matrix_col in range(input.shape[1]-w.shape[1]+1):\n",
        "    result = []\n",
        "    for w_row in range(w.shape[0]):\n",
        "      for w_col in range(w.shape[1]):\n",
        "        result.append(input[matrix_row+w_row,matrix_col+w_col] * w[w_row, w_col])\n",
        "    result_arr.append(np.sum(result))"
      ],
      "metadata": {
        "id": "FrWPwnsqyga1"
      },
      "execution_count": 31,
      "outputs": []
    },
    {
      "cell_type": "code",
      "source": [
        "result_arr"
      ],
      "metadata": {
        "colab": {
          "base_uri": "https://localhost:8080/"
        },
        "id": "F5UIgMhl0CYA",
        "outputId": "11ad2235-ffff-474c-ddd0-ad6d10a12200"
      },
      "execution_count": 32,
      "outputs": [
        {
          "output_type": "execute_result",
          "data": {
            "text/plain": [
              "[1.8760423945638465,\n",
              " 1.6384243652554065,\n",
              " 1.9299364610860785,\n",
              " 2.083682123609485,\n",
              " 1.7947105381568158,\n",
              " 2.225120122119695,\n",
              " 1.6022015709429518,\n",
              " 2.2322989528570516,\n",
              " 2.8464475164067666]"
            ]
          },
          "metadata": {},
          "execution_count": 32
        }
      ]
    },
    {
      "cell_type": "code",
      "source": [
        "result = np.array(result_arr).reshape(input.shape[0]-w.shape[0]+1,-1)\n",
        "result"
      ],
      "metadata": {
        "colab": {
          "base_uri": "https://localhost:8080/"
        },
        "id": "jCsWL7DXvm0U",
        "outputId": "20ab8c35-edf0-4f32-b7a4-2d02669be4b3"
      },
      "execution_count": 44,
      "outputs": [
        {
          "output_type": "execute_result",
          "data": {
            "text/plain": [
              "array([[1.87604239, 1.63842437, 1.92993646],\n",
              "       [2.08368212, 1.79471054, 2.22512012],\n",
              "       [1.60220157, 2.23229895, 2.84644752]])"
            ]
          },
          "metadata": {},
          "execution_count": 44
        }
      ]
    }
  ]
}
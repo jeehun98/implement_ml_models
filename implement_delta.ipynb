{
  "nbformat": 4,
  "nbformat_minor": 0,
  "metadata": {
    "colab": {
      "provenance": []
    },
    "kernelspec": {
      "name": "python3",
      "display_name": "Python 3"
    },
    "language_info": {
      "name": "python"
    }
  },
  "cells": [
    {
      "cell_type": "code",
      "execution_count": 1,
      "metadata": {
        "id": "tmiMCncq1Sj_"
      },
      "outputs": [],
      "source": [
        "import numpy as np\n"
      ]
    },
    {
      "cell_type": "markdown",
      "source": [
        "활성화 함수와 그 미분값을 미리 정해야 한다."
      ],
      "metadata": {
        "id": "ne3gWbi65ar8"
      }
    },
    {
      "cell_type": "code",
      "source": [
        "class activation:\n",
        "  # 활성화 함수\n",
        "  fx = 0\n",
        "  # 활성화 함수의 미분값\n",
        "  d_fx = 0\n",
        "\n",
        "  def sigmoid(input):\n",
        "    return 0"
      ],
      "metadata": {
        "colab": {
          "base_uri": "https://localhost:8080/",
          "height": 137
        },
        "id": "uG-6NTNW5ZdN",
        "outputId": "d78ca6de-3db3-4a9a-c26b-db617da45da1"
      },
      "execution_count": 2,
      "outputs": [
        {
          "output_type": "error",
          "ename": "SyntaxError",
          "evalue": "ignored",
          "traceback": [
            "\u001b[0;36m  File \u001b[0;32m\"<ipython-input-2-6c14c0e3ed89>\"\u001b[0;36m, line \u001b[0;32m1\u001b[0m\n\u001b[0;31m    class activation:\u001b[0m\n\u001b[0m                     ^\u001b[0m\n\u001b[0;31mSyntaxError\u001b[0m\u001b[0;31m:\u001b[0m unexpected EOF while parsing\n"
          ]
        }
      ]
    },
    {
      "cell_type": "markdown",
      "source": [
        "오차 함수와 그 미분값의 정의"
      ],
      "metadata": {
        "id": "xBMB78Al5efZ"
      }
    },
    {
      "cell_type": "code",
      "source": [
        "class error:\n",
        "  # 오차 함수\n",
        "  fx = 0\n",
        "  # 오차 함수의 미분값\n",
        "  d_fx = 0\n",
        "\n",
        "  def RMSE(input):\n",
        "    return 0"
      ],
      "metadata": {
        "colab": {
          "base_uri": "https://localhost:8080/",
          "height": 137
        },
        "id": "7zzvCA0C5eBs",
        "outputId": "f816fce7-f889-4d68-f48a-da2c3f4737b5"
      },
      "execution_count": 3,
      "outputs": [
        {
          "output_type": "error",
          "ename": "SyntaxError",
          "evalue": "ignored",
          "traceback": [
            "\u001b[0;36m  File \u001b[0;32m\"<ipython-input-3-c4769bdbf974>\"\u001b[0;36m, line \u001b[0;32m1\u001b[0m\n\u001b[0;31m    class error:\u001b[0m\n\u001b[0m                ^\u001b[0m\n\u001b[0;31mSyntaxError\u001b[0m\u001b[0;31m:\u001b[0m unexpected EOF while parsing\n"
          ]
        }
      ]
    },
    {
      "cell_type": "code",
      "source": [
        "class delta:\n",
        "  def cal_delta(activation, error):\n",
        "    return 0"
      ],
      "metadata": {
        "id": "PvHLIjtd1joj"
      },
      "execution_count": null,
      "outputs": []
    }
  ]
}
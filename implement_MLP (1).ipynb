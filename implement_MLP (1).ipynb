{
  "nbformat": 4,
  "nbformat_minor": 0,
  "metadata": {
    "colab": {
      "provenance": []
    },
    "kernelspec": {
      "name": "python3",
      "display_name": "Python 3"
    },
    "language_info": {
      "name": "python"
    }
  },
  "cells": [
    {
      "cell_type": "code",
      "execution_count": 141,
      "metadata": {
        "id": "qLrSxlPX-RU8"
      },
      "outputs": [],
      "source": [
        "import numpy as np"
      ]
    },
    {
      "cell_type": "code",
      "source": [
        "import sympy"
      ],
      "metadata": {
        "id": "NAjzHNiaMZXx"
      },
      "execution_count": 142,
      "outputs": []
    },
    {
      "cell_type": "code",
      "source": [
        "class mlp:\n",
        "  # 가중치 w\n",
        "  w = []\n",
        "  x_b = []\n",
        "\n",
        "  def __init__(self):\n",
        "    self.w = []\n",
        "\n",
        "  def cal_dense(self, input, unit):\n",
        "    \"\"\"\n",
        "    args\n",
        "      input : 입력 데이터\n",
        "      unit : 은닉층 노드의 개수\n",
        "    return \n",
        "      각 가중치 별 입력 데이터와의 연산 결과\n",
        "    \"\"\"\n",
        "    # 입력 데이터에 편향 가중치를 위한 열, 1의 추가\n",
        "    self.x_b = np.c_[input, np.ones((input.shape[0],1))]\n",
        "    \n",
        "    # 가중치 w의 생성\n",
        "    self.w = np.random.rand(self.x_b.shape[0], unit)\n",
        "\n",
        "    return input.T.dot(self.w)\n",
        "\n",
        "  def activation(self, input, activation):\n",
        "    \"\"\"\n",
        "    args\n",
        "      input : 은닉 노드의 입력 데이터, 이전 층의 가중치와의 내적 연산 결과이다.\n",
        "      activatoin : 활성화 함수\n",
        "    return\n",
        "      활성화 함수 연산 결과\n",
        "    \"\"\"\n",
        "    result = []\n",
        "\n",
        "    for i in range(input.shape[1]):\n",
        "      result.append(activation.subs([(e,np.e), (x,input[0][i])]))\n",
        "\n",
        "    return result\n"
      ],
      "metadata": {
        "id": "JjOq8lyuHugQ"
      },
      "execution_count": 143,
      "outputs": []
    },
    {
      "cell_type": "code",
      "source": [
        "perch_length = np.array(\n",
        "    [8.4, 13.7, 15.0, 16.2, 17.4, 18.0, 18.7, 19.0, 19.6, 20.0, \n",
        "     21.0, 21.0, 21.0, 21.3, 22.0, 22.0, 22.0, 22.0, 22.0, 22.5, \n",
        "     22.5, 22.7, 23.0, 23.5, 24.0, 24.0, 24.6, 25.0, 25.6, 26.5, \n",
        "     27.3, 27.5, 27.5, 27.5, 28.0, 28.7, 30.0, 32.8, 34.5, 35.0, \n",
        "     36.5, 36.0, 37.0, 37.0, 39.0, 39.0, 39.0, 40.0, 40.0, 40.0, \n",
        "     40.0, 42.0, 43.0, 43.0, 43.5, 44.0]\n",
        "     )\n",
        "perch_weight = np.array(\n",
        "    [5.9, 32.0, 40.0, 51.5, 70.0, 100.0, 78.0, 80.0, 85.0, 85.0, \n",
        "     110.0, 115.0, 125.0, 130.0, 120.0, 120.0, 130.0, 135.0, 110.0, \n",
        "     130.0, 150.0, 145.0, 150.0, 170.0, 225.0, 145.0, 188.0, 180.0, \n",
        "     197.0, 218.0, 300.0, 260.0, 265.0, 250.0, 250.0, 300.0, 320.0, \n",
        "     514.0, 556.0, 840.0, 685.0, 700.0, 700.0, 690.0, 900.0, 650.0, \n",
        "     820.0, 850.0, 900.0, 1015.0, 820.0, 1100.0, 1000.0, 1100.0, \n",
        "     1000.0, 1000.0]\n",
        "     )"
      ],
      "metadata": {
        "id": "jJ9m6saOCxCu"
      },
      "execution_count": 144,
      "outputs": []
    },
    {
      "cell_type": "code",
      "source": [
        "perch_length = perch_length.reshape(-1,1)"
      ],
      "metadata": {
        "id": "pQiubguoCxNh"
      },
      "execution_count": 145,
      "outputs": []
    },
    {
      "cell_type": "code",
      "source": [
        "perch_length.shape"
      ],
      "metadata": {
        "colab": {
          "base_uri": "https://localhost:8080/"
        },
        "id": "CZvnAQCyDEG1",
        "outputId": "93849c87-2354-44d4-d2bc-98589647ad17"
      },
      "execution_count": 146,
      "outputs": [
        {
          "output_type": "execute_result",
          "data": {
            "text/plain": [
              "(56, 1)"
            ]
          },
          "metadata": {},
          "execution_count": 146
        }
      ]
    },
    {
      "cell_type": "code",
      "source": [
        "x = sympy.Symbol('x')\n",
        "e = sympy.Symbol('e')"
      ],
      "metadata": {
        "id": "wsrK2qTHtb6F"
      },
      "execution_count": 147,
      "outputs": []
    },
    {
      "cell_type": "code",
      "source": [
        "activation_function = 1/(1+e**(-x))\n",
        "activation_function"
      ],
      "metadata": {
        "id": "y7pVKBIp5jys",
        "colab": {
          "base_uri": "https://localhost:8080/",
          "height": 52
        },
        "outputId": "97023121-dbd0-4dc3-a027-73b6b040da33"
      },
      "execution_count": 148,
      "outputs": [
        {
          "output_type": "execute_result",
          "data": {
            "text/plain": [
              "1/(1 + e**(-x))"
            ],
            "text/latex": "$\\displaystyle \\frac{1}{1 + e^{- x}}$"
          },
          "metadata": {},
          "execution_count": 148
        }
      ]
    },
    {
      "cell_type": "code",
      "source": [
        "m = mlp()"
      ],
      "metadata": {
        "id": "xCNs_3NlLDS5"
      },
      "execution_count": 149,
      "outputs": []
    },
    {
      "cell_type": "code",
      "source": [
        "hidden_input = m.cal_dense(perch_length,2)\n",
        "hidden_input"
      ],
      "metadata": {
        "colab": {
          "base_uri": "https://localhost:8080/"
        },
        "id": "1Gn_fVSkLpBO",
        "outputId": "9558e2e2-340b-4f8c-f1da-dbb1fd723d45"
      },
      "execution_count": 150,
      "outputs": [
        {
          "output_type": "execute_result",
          "data": {
            "text/plain": [
              "array([[752.86102554, 605.8363627 ]])"
            ]
          },
          "metadata": {},
          "execution_count": 150
        }
      ]
    },
    {
      "cell_type": "code",
      "source": [
        "hidden_output = m.activation(hidden_input, activation_function)\n",
        "hidden_output"
      ],
      "metadata": {
        "colab": {
          "base_uri": "https://localhost:8080/"
        },
        "id": "5YIIGXJGMrRx",
        "outputId": "c8ed2c69-e522-4873-97c8-609f079efd83"
      },
      "execution_count": 151,
      "outputs": [
        {
          "output_type": "execute_result",
          "data": {
            "text/plain": [
              "[1.00000000000000, 1.00000000000000]"
            ]
          },
          "metadata": {},
          "execution_count": 151
        }
      ]
    },
    {
      "cell_type": "code",
      "source": [],
      "metadata": {
        "id": "yuFxK4-DNHB9"
      },
      "execution_count": 151,
      "outputs": []
    },
    {
      "cell_type": "code",
      "source": [],
      "metadata": {
        "id": "-lEtvLB3PiIP"
      },
      "execution_count": 151,
      "outputs": []
    }
  ]
}
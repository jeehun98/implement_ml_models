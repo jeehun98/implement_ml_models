{
  "nbformat": 4,
  "nbformat_minor": 0,
  "metadata": {
    "colab": {
      "provenance": []
    },
    "kernelspec": {
      "name": "python3",
      "display_name": "Python 3"
    },
    "language_info": {
      "name": "python"
    }
  },
  "cells": [
    {
      "cell_type": "code",
      "execution_count": 2,
      "metadata": {
        "id": "GjWYglY6i8on"
      },
      "outputs": [],
      "source": [
        "import numpy as np"
      ]
    },
    {
      "cell_type": "markdown",
      "source": [
        "입력 데이터 생성"
      ],
      "metadata": {
        "id": "20gCi3beG_AL"
      }
    },
    {
      "cell_type": "code",
      "source": [
        "input = np.random.random(16).reshape(4,4)\n",
        "input"
      ],
      "metadata": {
        "colab": {
          "base_uri": "https://localhost:8080/"
        },
        "id": "G0c7aWLdx8VG",
        "outputId": "e777b0eb-71b8-494e-e7aa-809ca868b63b"
      },
      "execution_count": 3,
      "outputs": [
        {
          "output_type": "execute_result",
          "data": {
            "text/plain": [
              "array([[0.8383069 , 0.05095063, 0.62240076, 0.99743712],\n",
              "       [0.7950964 , 0.36897637, 0.79920073, 0.7719454 ],\n",
              "       [0.25481215, 0.75443591, 0.31732551, 0.48430807],\n",
              "       [0.54374886, 0.04103307, 0.72146801, 0.45896012]])"
            ]
          },
          "metadata": {},
          "execution_count": 3
        }
      ]
    },
    {
      "cell_type": "markdown",
      "source": [
        "가중치 커널 생성"
      ],
      "metadata": {
        "id": "FlZdNk6SHSXN"
      }
    },
    {
      "cell_type": "code",
      "source": [
        "w = np.random.random(4).reshape(2,2)\n",
        "w"
      ],
      "metadata": {
        "colab": {
          "base_uri": "https://localhost:8080/"
        },
        "id": "-TpJqq7aHQHA",
        "outputId": "d3193699-07a7-402f-dac0-9f865fd04993"
      },
      "execution_count": 4,
      "outputs": [
        {
          "output_type": "execute_result",
          "data": {
            "text/plain": [
              "array([[0.89125996, 0.20312673],\n",
              "       [0.35766807, 0.67890267]])"
            ]
          },
          "metadata": {},
          "execution_count": 4
        }
      ]
    },
    {
      "cell_type": "markdown",
      "source": [
        "합성곱 신경망의 연산은 커널을 플립하지 않은 연산, cross-corelation 을 더 많이 사용한다.\n",
        "\n",
        "동일한 두 크기의 행렬의 원소 곱으로 계산할 수 있을 것"
      ],
      "metadata": {
        "id": "qqhAVz7zICfE"
      }
    },
    {
      "cell_type": "code",
      "source": [
        "row = []\n",
        "matrix = []\n",
        "\n",
        "for matrix_row in range(input.shape[0]-w.shape[0]+1):\n",
        "  for matrix_col in range(input.shape[1]-w.shape[1]+1):\n",
        "    matrix = []\n",
        "    for w_row in range(w.shape[0]):\n",
        "      row = []\n",
        "      for w_col in range(w.shape[1]):\n",
        "        row.append(input[matrix_row+w_row,matrix_col+w_col])\n",
        "      matrix.append(row)\n",
        "    print(matrix) "
      ],
      "metadata": {
        "colab": {
          "base_uri": "https://localhost:8080/"
        },
        "id": "QLESkEktG8ms",
        "outputId": "9f6d1dec-2e02-4e2d-b401-f562678681b4"
      },
      "execution_count": 5,
      "outputs": [
        {
          "output_type": "stream",
          "name": "stdout",
          "text": [
            "[[0.8383068999234274, 0.050950629737907205], [0.7950964027818136, 0.36897637443350595]]\n",
            "[[0.050950629737907205, 0.6224007586217254], [0.36897637443350595, 0.7992007346961458]]\n",
            "[[0.6224007586217254, 0.997437115337103], [0.7992007346961458, 0.7719454003358299]]\n",
            "[[0.7950964027818136, 0.36897637443350595], [0.25481214582195166, 0.7544359073522622]]\n",
            "[[0.36897637443350595, 0.7992007346961458], [0.7544359073522622, 0.3173255060826262]]\n",
            "[[0.7992007346961458, 0.7719454003358299], [0.3173255060826262, 0.48430807439035384]]\n",
            "[[0.25481214582195166, 0.7544359073522622], [0.5437488556279283, 0.041033074917227186]]\n",
            "[[0.7544359073522622, 0.3173255060826262], [0.041033074917227186, 0.7214680085041209]]\n",
            "[[0.3173255060826262, 0.48430807439035384], [0.7214680085041209, 0.4589601195831766]]\n"
          ]
        }
      ]
    },
    {
      "cell_type": "code",
      "source": [
        "row = []\n",
        "matrix = []\n",
        "result = []\n",
        "\n",
        "for matrix_row in range(input.shape[0]-w.shape[0]+1):\n",
        "  for matrix_col in range(input.shape[1]-w.shape[1]+1):\n",
        "    matrix = []\n",
        "    for w_row in range(w.shape[0]):\n",
        "      row = []\n",
        "      for w_col in range(w.shape[1]):\n",
        "        row.append(input[matrix_row+w_row,matrix_col+w_col])\n",
        "      matrix.append(row)\n",
        "    result.append(matrix*w)\n",
        "\n",
        "result"
      ],
      "metadata": {
        "id": "zwRmNdHNQzv5",
        "colab": {
          "base_uri": "https://localhost:8080/"
        },
        "outputId": "cf6799d2-4b49-4eba-9853-2bfb6e1b0eed"
      },
      "execution_count": 6,
      "outputs": [
        {
          "output_type": "execute_result",
          "data": {
            "text/plain": [
              "[array([[0.74714937, 0.01034944],\n",
              "        [0.28438059, 0.25049905]]), array([[0.04541026, 0.12642623],\n",
              "        [0.13197107, 0.54257952]]), array([[0.55472087, 0.20260614],\n",
              "        [0.28584858, 0.5240758 ]]), array([[0.70863759, 0.07494897],\n",
              "        [0.09113817, 0.51218856]]), array([[0.32885387, 0.16233903],\n",
              "        [0.26983763, 0.21543313]]), array([[0.71229561, 0.15680275],\n",
              "        [0.1134972 , 0.32879805]]), array([[0.22710386, 0.1532461 ],\n",
              "        [0.1944816 , 0.02785746]]), array([[0.67239852, 0.06445729],\n",
              "        [0.01467622, 0.48980656]]), array([[0.28281952, 0.09837592],\n",
              "        [0.25804607, 0.31158925]])]"
            ]
          },
          "metadata": {},
          "execution_count": 6
        }
      ]
    },
    {
      "cell_type": "code",
      "source": [
        "result_arr = []\n",
        "\n",
        "for matrix_row in range(input.shape[0]-w.shape[0]+1):\n",
        "  for matrix_col in range(input.shape[1]-w.shape[1]+1):\n",
        "    result = []\n",
        "    for w_row in range(w.shape[0]):\n",
        "      for w_col in range(w.shape[1]):\n",
        "        result.append(input[matrix_row+w_row,matrix_col+w_col] * w[w_row, w_col])\n",
        "    result_arr.append(np.sum(result))"
      ],
      "metadata": {
        "id": "FrWPwnsqyga1"
      },
      "execution_count": 7,
      "outputs": []
    },
    {
      "cell_type": "code",
      "source": [
        "result_arr"
      ],
      "metadata": {
        "colab": {
          "base_uri": "https://localhost:8080/"
        },
        "id": "F5UIgMhl0CYA",
        "outputId": "5e5787a4-fe3d-4e59-e567-87caae27e3e7"
      },
      "execution_count": 8,
      "outputs": [
        {
          "output_type": "execute_result",
          "data": {
            "text/plain": [
              "[1.2923784479200464,\n",
              " 0.8463870717242483,\n",
              " 1.5672513956508278,\n",
              " 1.386913275927562,\n",
              " 0.9764636694295643,\n",
              " 1.3113936090233551,\n",
              " 0.6026890298855487,\n",
              " 1.2413385908927124,\n",
              " 0.9508307543272523]"
            ]
          },
          "metadata": {},
          "execution_count": 8
        }
      ]
    },
    {
      "cell_type": "code",
      "source": [
        "result = np.array(result_arr).reshape(input.shape[0]-w.shape[0]+1,-1)\n",
        "result"
      ],
      "metadata": {
        "colab": {
          "base_uri": "https://localhost:8080/"
        },
        "id": "jCsWL7DXvm0U",
        "outputId": "98c13513-a3ac-4acf-e3a6-171e3ce52283"
      },
      "execution_count": 9,
      "outputs": [
        {
          "output_type": "execute_result",
          "data": {
            "text/plain": [
              "array([[1.29237845, 0.84638707, 1.5672514 ],\n",
              "       [1.38691328, 0.97646367, 1.31139361],\n",
              "       [0.60268903, 1.24133859, 0.95083075]])"
            ]
          },
          "metadata": {},
          "execution_count": 9
        }
      ]
    },
    {
      "cell_type": "markdown",
      "source": [
        "패딩"
      ],
      "metadata": {
        "id": "U98xPvoN3P0F"
      }
    },
    {
      "cell_type": "code",
      "source": [
        "padding_matrix = np.zeros((input.shape[0]+w.shape[0]-1, input.shape[1]+w.shape[1]-1))\n",
        "padding_matrix"
      ],
      "metadata": {
        "colab": {
          "base_uri": "https://localhost:8080/"
        },
        "id": "ac6fJ0NH0nUx",
        "outputId": "21cc8e41-58e6-4f80-c577-43a879a4ba84"
      },
      "execution_count": 10,
      "outputs": [
        {
          "output_type": "execute_result",
          "data": {
            "text/plain": [
              "array([[0., 0., 0., 0., 0.],\n",
              "       [0., 0., 0., 0., 0.],\n",
              "       [0., 0., 0., 0., 0.],\n",
              "       [0., 0., 0., 0., 0.],\n",
              "       [0., 0., 0., 0., 0.]])"
            ]
          },
          "metadata": {},
          "execution_count": 10
        }
      ]
    },
    {
      "cell_type": "code",
      "source": [
        "input"
      ],
      "metadata": {
        "id": "mhu-yh_73erx",
        "colab": {
          "base_uri": "https://localhost:8080/"
        },
        "outputId": "445c2799-fd88-4bdb-a74b-b82c4ac9a57e"
      },
      "execution_count": 11,
      "outputs": [
        {
          "output_type": "execute_result",
          "data": {
            "text/plain": [
              "array([[0.8383069 , 0.05095063, 0.62240076, 0.99743712],\n",
              "       [0.7950964 , 0.36897637, 0.79920073, 0.7719454 ],\n",
              "       [0.25481215, 0.75443591, 0.31732551, 0.48430807],\n",
              "       [0.54374886, 0.04103307, 0.72146801, 0.45896012]])"
            ]
          },
          "metadata": {},
          "execution_count": 11
        }
      ]
    },
    {
      "cell_type": "code",
      "source": [
        "for i in range(input.shape[0]):\n",
        "  for j in range(input.shape[1]):\n",
        "    padding_matrix[i+1][j+1] = input[i][j]"
      ],
      "metadata": {
        "id": "mEw3INlB-lST"
      },
      "execution_count": 15,
      "outputs": []
    },
    {
      "cell_type": "code",
      "source": [
        "padding_matrix"
      ],
      "metadata": {
        "colab": {
          "base_uri": "https://localhost:8080/"
        },
        "id": "b4vKRz04_1-r",
        "outputId": "4a9f8def-4327-4313-93ad-9f0628f58496"
      },
      "execution_count": 16,
      "outputs": [
        {
          "output_type": "execute_result",
          "data": {
            "text/plain": [
              "array([[0.        , 0.        , 0.        , 0.        , 0.        ],\n",
              "       [0.        , 0.8383069 , 0.05095063, 0.62240076, 0.99743712],\n",
              "       [0.        , 0.7950964 , 0.36897637, 0.79920073, 0.7719454 ],\n",
              "       [0.        , 0.25481215, 0.75443591, 0.31732551, 0.48430807],\n",
              "       [0.        , 0.54374886, 0.04103307, 0.72146801, 0.45896012]])"
            ]
          },
          "metadata": {},
          "execution_count": 16
        }
      ]
    },
    {
      "cell_type": "code",
      "source": [],
      "metadata": {
        "id": "bePV3dMr_3u1"
      },
      "execution_count": null,
      "outputs": []
    }
  ]
}
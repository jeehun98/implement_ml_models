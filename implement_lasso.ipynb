{
  "nbformat": 4,
  "nbformat_minor": 0,
  "metadata": {
    "colab": {
      "provenance": []
    },
    "kernelspec": {
      "name": "python3",
      "display_name": "Python 3"
    },
    "language_info": {
      "name": "python"
    }
  },
  "cells": [
    {
      "cell_type": "code",
      "source": [
        "import numpy as np\n",
        "\n",
        "perch_length = np.array(\n",
        "    [8.4, 13.7, 15.0, 16.2, 17.4, 18.0, 18.7, 19.0, 19.6, 20.0, \n",
        "     21.0, 21.0, 21.0, 21.3, 22.0, 22.0, 22.0, 22.0, 22.0, 22.5, \n",
        "     22.5, 22.7, 23.0, 23.5, 24.0, 24.0, 24.6, 25.0, 25.6, 26.5, \n",
        "     27.3, 27.5, 27.5, 27.5, 28.0, 28.7, 30.0, 32.8, 34.5, 35.0, \n",
        "     36.5, 36.0, 37.0, 37.0, 39.0, 39.0, 39.0, 40.0, 40.0, 40.0, \n",
        "     40.0, 42.0, 43.0, 43.0, 43.5, 44.0]\n",
        "     )\n",
        "perch_weight = np.array(\n",
        "    [5.9, 32.0, 40.0, 51.5, 70.0, 100.0, 78.0, 80.0, 85.0, 85.0, \n",
        "     110.0, 115.0, 125.0, 130.0, 120.0, 120.0, 130.0, 135.0, 110.0, \n",
        "     130.0, 150.0, 145.0, 150.0, 170.0, 225.0, 145.0, 188.0, 180.0, \n",
        "     197.0, 218.0, 300.0, 260.0, 265.0, 250.0, 250.0, 300.0, 320.0, \n",
        "     514.0, 556.0, 840.0, 685.0, 700.0, 700.0, 690.0, 900.0, 650.0, \n",
        "     820.0, 850.0, 900.0, 1015.0, 820.0, 1100.0, 1000.0, 1100.0, \n",
        "     1000.0, 1000.0]\n",
        "     )"
      ],
      "metadata": {
        "id": "Xi4ZZeh3CL9L"
      },
      "execution_count": null,
      "outputs": []
    },
    {
      "cell_type": "code",
      "source": [
        "# 훈련 세트와 테스트 세트를 2차원 배열로 바꿉니다\n",
        "train_input = perch_length.reshape(-1, 1)\n",
        "test_input = perch_weight.reshape(-1, 1)"
      ],
      "metadata": {
        "id": "bIrYHgzsDsOq"
      },
      "execution_count": null,
      "outputs": []
    },
    {
      "cell_type": "code",
      "source": [
        "train_input.shape"
      ],
      "metadata": {
        "colab": {
          "base_uri": "https://localhost:8080/"
        },
        "id": "x0lm0d2wGkm_",
        "outputId": "3682190d-e076-4e99-99b9-19905bde5da3"
      },
      "execution_count": null,
      "outputs": [
        {
          "output_type": "execute_result",
          "data": {
            "text/plain": [
              "(56, 1)"
            ]
          },
          "metadata": {},
          "execution_count": 7
        }
      ]
    },
    {
      "cell_type": "code",
      "source": [
        "class normal_equation:\n",
        "  x_b = 0\n",
        "  w = 0\n",
        "  def __init__(self):\n",
        "    self.x_b = 0\n",
        "    self.w = 0\n",
        "\n",
        "  def linear_regression(self, x, y):\n",
        "    \"\"\"\n",
        "    선형 회귀를 위한 정규 방정식 함수\n",
        "    Args:\n",
        "      x : 입력 데이터\n",
        "      y : 타깃 데이터\n",
        "    Return:\n",
        "      w : 가중치 추정량\n",
        "    \"\"\"\n",
        "    self.x_b = np.c_[x, np.ones((x.shape[0],1))] # 입력 데이터에 편향값을 위한 1의 추가\n",
        "    self.w = np.linalg.inv(self.x_b.T.dot(self.x_b)).dot(self.x_b.T).dot(y) # 정규 방정식의 수행\n",
        "\n",
        "    return self.w\n",
        "\n",
        "  def linear_regrssion2(self, x, y):\n",
        "    \"\"\"\n",
        "    유사역행렬을 이용한 계산\n",
        "    \"\"\"\n",
        "    return np.linalg.pinv(self.x_b).dot(y)\n",
        "\n",
        "  def linear_regression_lasso(self, x, y, r):\n",
        "    \"\"\"\n",
        "    선형 회귀를 위한 정규 방정식 함수\n",
        "    Args:\n",
        "      x : 입력 데이터\n",
        "      y : 타깃 데이터\n",
        "    Return:\n",
        "      w : 가중치 추정량\n",
        "    \"\"\"\n",
        "    self.x_b = np.c_[x, np.ones((x.shape[0],1))] # 입력 데이터에 편향값을 위한 1의 추가\n",
        "    self.w = np.linalg.inv(self.x_b.T.dot(self.x_b) + 1/2*r*np.identity(self.x_b.shape[1])).dot(self.x_b.T).dot(y) # 정규 방정식의 수행\n",
        "\n",
        "    return self.w\n",
        "\n",
        "\n",
        "  def predict(self, x):\n",
        "    \"\"\"\n",
        "    입력값의 예측값 출력\n",
        "    \"\"\"\n",
        "    x_b = np.c_[x, np.ones((x.shape[0],1))]\n",
        "    return (x_b).dot(self.w)"
      ],
      "metadata": {
        "id": "yXyd4kG5GwD_"
      },
      "execution_count": null,
      "outputs": []
    },
    {
      "cell_type": "code",
      "source": [
        "ne = normal_equation()\n",
        "w = ne.linear_regression(train_input, test_input)\n",
        "w"
      ],
      "metadata": {
        "colab": {
          "base_uri": "https://localhost:8080/"
        },
        "id": "b_9k01IM2hV0",
        "outputId": "20bb04a9-bbe6-4a3b-840d-06894c0b5a02"
      },
      "execution_count": null,
      "outputs": [
        {
          "output_type": "execute_result",
          "data": {
            "text/plain": [
              "array([[  36.93837597],\n",
              "       [-648.07755825]])"
            ]
          },
          "metadata": {},
          "execution_count": 11
        }
      ]
    }
  ]
}
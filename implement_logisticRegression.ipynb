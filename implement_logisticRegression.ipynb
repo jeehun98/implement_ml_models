{
  "nbformat": 4,
  "nbformat_minor": 0,
  "metadata": {
    "colab": {
      "provenance": []
    },
    "kernelspec": {
      "name": "python3",
      "display_name": "Python 3"
    },
    "language_info": {
      "name": "python"
    }
  },
  "cells": [
    {
      "cell_type": "code",
      "execution_count": null,
      "metadata": {
        "id": "N75QoL86nMj4"
      },
      "outputs": [],
      "source": [
        "import numpy as np"
      ]
    },
    {
      "cell_type": "code",
      "source": [
        "class LogisticRegression:\n",
        "  # 가중치치\n",
        "  w = []\n",
        "\n",
        "  # 시그모이드 함수\n",
        "  def sigmoid(self, x):\n",
        "    return 1 / (1+np.e**-x)\n",
        "\n",
        "  # 로지스틱 함수\n",
        "  def logisticRegression(self, input, target):\n",
        "    \"\"\"\n",
        "    로지스틱 연산\n",
        "    Args\n",
        "      input : 입력 데이터\n",
        "      target : 타겟 데이터\n",
        "    \"\"\"\n",
        "    # 입력 데이터의 마지막 열의 원소 1의 추가\n",
        "    input_b = np.c_[input, np.ones((input.shape[0], 1))]\n",
        "\n",
        "    # 임의의 가중치 생성\n",
        "    w = np.random.randn(input.shape[1] + 1, 1)\n",
        "\n",
        "    predict = self.sigmoid(input_b.dot(w))\n",
        "\n",
        "    # 로지스틱 비용 함수의 편도 함수\n",
        "    w_update = (1 / input_b.shape[0]) * (self.sigmoid(input_b.dot(w)) - target) * input_b\n",
        "\n",
        "    # 가중치 갱신\n",
        "    self.w = w - w_update * 0.01\n",
        "\n",
        "\n",
        "\n",
        "\n",
        "  \n",
        "\n"
      ],
      "metadata": {
        "id": "yKI5zsa6nMHB"
      },
      "execution_count": null,
      "outputs": []
    }
  ]
}
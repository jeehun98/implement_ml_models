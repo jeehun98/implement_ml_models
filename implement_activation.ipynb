{
  "nbformat": 4,
  "nbformat_minor": 0,
  "metadata": {
    "colab": {
      "provenance": []
    },
    "kernelspec": {
      "name": "python3",
      "display_name": "Python 3"
    },
    "language_info": {
      "name": "python"
    }
  },
  "cells": [
    {
      "cell_type": "code",
      "source": [
        "import numpy as np"
      ],
      "metadata": {
        "id": "wcrN0C4Cbayc"
      },
      "execution_count": null,
      "outputs": []
    },
    {
      "cell_type": "markdown",
      "source": [
        "step function"
      ],
      "metadata": {
        "id": "eOg992j7ZG-u"
      }
    },
    {
      "cell_type": "code",
      "execution_count": null,
      "metadata": {
        "id": "5kcQvyboYWvS"
      },
      "outputs": [],
      "source": [
        "def step_fun(x):\n",
        "  \"\"\"\n",
        "  계단 함수\n",
        "  \n",
        "  입력이 0 이하일 경우 0을 출력하고 0을 초과할 때 1을 출력\n",
        "  Args:\n",
        "    x : 입력값\n",
        "  Return:\n",
        "    0 or 1\n",
        "  \"\"\"\n",
        "  if x < 0:\n",
        "    return 0\n",
        "  else:\n",
        "    return 1"
      ]
    },
    {
      "cell_type": "markdown",
      "source": [
        "sign function (부호 함수)"
      ],
      "metadata": {
        "id": "eZv57-1MZ8ok"
      }
    },
    {
      "cell_type": "code",
      "source": [
        "def sign_fun(x):\n",
        "  \"\"\"\n",
        "  부호 함수 \n",
        "  \n",
        "  입력이 0 미만일 경우 -1을 출력하고 0을 초과할 때 1을 출력\n",
        "  0일 때 0을 출력\n",
        "  Args:\n",
        "    x : 입력값\n",
        "  Return:\n",
        "    -1,0 or 1\n",
        "  \"\"\"\n",
        "  if x < 0:\n",
        "    return -1\n",
        "  elif x == 0:\n",
        "    return 0\n",
        "  else:\n",
        "    return 1"
      ],
      "metadata": {
        "id": "0pYqhsDNZ7qd"
      },
      "execution_count": null,
      "outputs": []
    },
    {
      "cell_type": "markdown",
      "source": [
        "sigmoid function (시그모이드 함수)"
      ],
      "metadata": {
        "id": "ud1A2Llja_uj"
      }
    },
    {
      "cell_type": "code",
      "source": [
        "def sigmoid_fun(x):\n",
        "  \"\"\"\n",
        "  시그모이드 함수\n",
        "\n",
        "  지수 함수를 사용한 0~1 사이의 값 출력\n",
        "  Args:\n",
        "    x : 입력값\n",
        "  Return:\n",
        "    0~1\n",
        "  \"\"\"\n",
        "  return 1/(1+np.e**-x)"
      ],
      "metadata": {
        "id": "R1EigW-0Zlo7"
      },
      "execution_count": null,
      "outputs": []
    },
    {
      "cell_type": "markdown",
      "source": [
        "hyperbolic tangent 하이퍼볼릭 탄젠트"
      ],
      "metadata": {
        "id": "o6ZCXbk8dgol"
      }
    },
    {
      "cell_type": "code",
      "source": [
        "def hyperbolic_tangent(x):\n",
        "  \"\"\"\n",
        "  하이퍼볼릭 탄젠트 함수\n",
        "\n",
        "  시그모이드 함수를 변형한 함수\n",
        "  Args:\n",
        "    x : 입력값\n",
        "  Return:\n",
        "    -1 ~ 1\n",
        "  \"\"\"\n",
        "  return 2*(1/(1+np.e**-x))-1"
      ],
      "metadata": {
        "id": "ta8IZzaUba5B"
      },
      "execution_count": null,
      "outputs": []
    },
    {
      "cell_type": "markdown",
      "source": [
        "Rectified Linear Unit, 렐루 함수"
      ],
      "metadata": {
        "id": "7Tl2_nxebe0G"
      }
    },
    {
      "cell_type": "code",
      "source": [
        "def relu(x):\n",
        "  \"\"\"\n",
        "  렐루 함수\n",
        "\n",
        "  입력값이 0 이하면 0을 출력, 양수이면 그대로 그 값을 출력\n",
        "  Args:\n",
        "    x : 입력값\n",
        "  Return:\n",
        "    0 ~ x\n",
        "  \"\"\"\n",
        "  if x <= 0:\n",
        "    return 0\n",
        "  else:\n",
        "    return x"
      ],
      "metadata": {
        "id": "5TB0R6Kxd8Ly"
      },
      "execution_count": null,
      "outputs": []
    },
    {
      "cell_type": "markdown",
      "source": [
        "Leaky Relu"
      ],
      "metadata": {
        "id": "_Cz5OBjocJkd"
      }
    },
    {
      "cell_type": "code",
      "source": [
        "def leaky_relu(x, a=0.01):\n",
        "  \"\"\"\n",
        "  리키 렐루 함수\n",
        "\n",
        "  입력값이 0 이하면 기울기 a를 곱한 값을 출력, 양수이면 그대로 그 값을 출력\n",
        "  Args:\n",
        "    x : 입력값\n",
        "    a : 기울기(기본값 0.01)\n",
        "  Return:\n",
        "    0 ~ x\n",
        "  \"\"\"\n",
        "  if x <= 0:\n",
        "    return a*x\n",
        "  else:\n",
        "    return x"
      ],
      "metadata": {
        "id": "IagcZ_mucIo6"
      },
      "execution_count": null,
      "outputs": []
    },
    {
      "cell_type": "markdown",
      "source": [
        "identity functoin 항등 함수 입력과 출력이 동일"
      ],
      "metadata": {
        "id": "aqbAx_UocyjW"
      }
    },
    {
      "cell_type": "code",
      "source": [
        "def identity_fun(x):\n",
        "  \"\"\"\n",
        "  항등 함수\n",
        "\n",
        "  입력값 그대로 출력\n",
        "  Args:\n",
        "    x : 입력\n",
        "  Return\n",
        "    x\n",
        "  \"\"\"\n",
        "  return x"
      ],
      "metadata": {
        "id": "bw7bGBrrc6ZG"
      },
      "execution_count": null,
      "outputs": []
    },
    {
      "cell_type": "markdown",
      "source": [
        "soft max 소프트 맥스 함수"
      ],
      "metadata": {
        "id": "WKvCuvxsdGhX"
      }
    },
    {
      "cell_type": "code",
      "source": [
        "def softmax_fun(x):\n",
        "  \"\"\"\n",
        "  소프트 맥스 함수\n",
        "\n",
        "  입력 리스트들에 대한 각 요소들의 비율, 확률을 계산\n",
        "  오버플로를 예방하기 위한 최댓값을 빼주는 과정\n",
        "  Args:\n",
        "    x : 입력 리스트\n",
        "  Returen:\n",
        "    y : 입력 리스트와 동일한 길이의 리스트\n",
        "  \"\"\"\n",
        "  sum = 0\n",
        "  C = max(x)\n",
        "  y = []\n",
        "\n",
        "  for i in range(x):\n",
        "    sum += np.e**i - C\n",
        "\n",
        "  for i in range(x):\n",
        "    y.append((np.e**i) - C) / sum\n",
        "\n",
        "  return y"
      ],
      "metadata": {
        "id": "xERgMpolcmJt"
      },
      "execution_count": null,
      "outputs": []
    }
  ]
}
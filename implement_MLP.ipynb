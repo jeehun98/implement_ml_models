{
  "nbformat": 4,
  "nbformat_minor": 0,
  "metadata": {
    "colab": {
      "provenance": []
    },
    "kernelspec": {
      "name": "python3",
      "display_name": "Python 3"
    },
    "language_info": {
      "name": "python"
    }
  },
  "cells": [
    {
      "cell_type": "code",
      "execution_count": 1,
      "metadata": {
        "id": "qLrSxlPX-RU8"
      },
      "outputs": [],
      "source": [
        "import numpy as np"
      ]
    },
    {
      "cell_type": "code",
      "source": [
        "class Dense:\n",
        "  # 가중치 w\n",
        "  w = []\n",
        "  x_b = []\n",
        "\n",
        "  def __init__(self):\n",
        "    self.w = []\n",
        "\n",
        "  def cal_dense(self, input, unit):\n",
        "    \"\"\"\n",
        "    Args\n",
        "      input : 입력 데이터\n",
        "      unit : 은닉층 노드의 개수\n",
        "    return \n",
        "      각 가중치 별 입력 데이터와의 연산 결과\n",
        "    \"\"\"\n",
        "    # 입력 데이터에 편향 가중치를 위한 열, 1의 추가\n",
        "    self.x_b = np.c_[input, np.ones((input.shape[0],1))]\n",
        "    \n",
        "    # 가중치 w의 생성\n",
        "    self.w = np.random.rand(self.x_b.shape[0], unit)\n",
        "\n",
        "    return input.T.dot(self.w)"
      ],
      "metadata": {
        "id": "JjOq8lyuHugQ"
      },
      "execution_count": 34,
      "outputs": []
    },
    {
      "cell_type": "code",
      "source": [
        "def cal_dense(input, w, b):\n",
        "  \"\"\"\n",
        "  Args\n",
        "    input : 입력 데이터\n",
        "    w : 가중치\n",
        "  return \n",
        "    각 가중치 별 입력데이터와\n",
        "  \"\"\"\n",
        "  input_result = (w.T)@input+b\n",
        "  hidden_output = 1/(1+np.exp(-input_result)) # 활성화 함수의 종류를 입력으로 받을 수 있음\n",
        "  return hidden_output"
      ],
      "metadata": {
        "id": "WFapKtcK_Ooz"
      },
      "execution_count": 21,
      "outputs": []
    },
    {
      "cell_type": "code",
      "source": [
        "def cal_dense(input, w, b):\n",
        "  \"\"\"\n",
        "  Args\n",
        "    input : 입력 데이터\n",
        "    w : 가중치\n",
        "  return \n",
        "  \"\"\"\n",
        "  input_result = (w.T)@input+b\n",
        "  hidden_output = 1/(1+np.exp(-input_result)) # 활성화 함수의 종류를 입력으로 받을 수 있음\n",
        "  return hidden_output"
      ],
      "metadata": {
        "id": "kHHupTQrAnKY"
      },
      "execution_count": null,
      "outputs": []
    },
    {
      "cell_type": "code",
      "source": [
        "perch_length = np.array(\n",
        "    [8.4, 13.7, 15.0, 16.2, 17.4, 18.0, 18.7, 19.0, 19.6, 20.0, \n",
        "     21.0, 21.0, 21.0, 21.3, 22.0, 22.0, 22.0, 22.0, 22.0, 22.5, \n",
        "     22.5, 22.7, 23.0, 23.5, 24.0, 24.0, 24.6, 25.0, 25.6, 26.5, \n",
        "     27.3, 27.5, 27.5, 27.5, 28.0, 28.7, 30.0, 32.8, 34.5, 35.0, \n",
        "     36.5, 36.0, 37.0, 37.0, 39.0, 39.0, 39.0, 40.0, 40.0, 40.0, \n",
        "     40.0, 42.0, 43.0, 43.0, 43.5, 44.0]\n",
        "     )\n",
        "perch_weight = np.array(\n",
        "    [5.9, 32.0, 40.0, 51.5, 70.0, 100.0, 78.0, 80.0, 85.0, 85.0, \n",
        "     110.0, 115.0, 125.0, 130.0, 120.0, 120.0, 130.0, 135.0, 110.0, \n",
        "     130.0, 150.0, 145.0, 150.0, 170.0, 225.0, 145.0, 188.0, 180.0, \n",
        "     197.0, 218.0, 300.0, 260.0, 265.0, 250.0, 250.0, 300.0, 320.0, \n",
        "     514.0, 556.0, 840.0, 685.0, 700.0, 700.0, 690.0, 900.0, 650.0, \n",
        "     820.0, 850.0, 900.0, 1015.0, 820.0, 1100.0, 1000.0, 1100.0, \n",
        "     1000.0, 1000.0]\n",
        "     )"
      ],
      "metadata": {
        "id": "jJ9m6saOCxCu"
      },
      "execution_count": 35,
      "outputs": []
    },
    {
      "cell_type": "code",
      "source": [
        "perch_length = perch_length.reshape(-1,1)"
      ],
      "metadata": {
        "id": "pQiubguoCxNh"
      },
      "execution_count": 36,
      "outputs": []
    },
    {
      "cell_type": "code",
      "source": [
        "perch_length.shape"
      ],
      "metadata": {
        "colab": {
          "base_uri": "https://localhost:8080/"
        },
        "id": "CZvnAQCyDEG1",
        "outputId": "aad6e486-c28e-489d-b1b8-7c2ed78e54f7"
      },
      "execution_count": 37,
      "outputs": [
        {
          "output_type": "execute_result",
          "data": {
            "text/plain": [
              "(56, 1)"
            ]
          },
          "metadata": {},
          "execution_count": 37
        }
      ]
    },
    {
      "cell_type": "code",
      "source": [
        "dense = Dense()"
      ],
      "metadata": {
        "id": "xCNs_3NlLDS5"
      },
      "execution_count": 39,
      "outputs": []
    },
    {
      "cell_type": "code",
      "source": [
        "dense.cal_dense(perch_length,2)"
      ],
      "metadata": {
        "colab": {
          "base_uri": "https://localhost:8080/"
        },
        "id": "1Gn_fVSkLpBO",
        "outputId": "bb4993d4-358a-43ec-da2e-09a71e51bf0a"
      },
      "execution_count": 41,
      "outputs": [
        {
          "output_type": "execute_result",
          "data": {
            "text/plain": [
              "array([[713.25892955, 923.88550605]])"
            ]
          },
          "metadata": {},
          "execution_count": 41
        }
      ]
    },
    {
      "cell_type": "code",
      "source": [],
      "metadata": {
        "id": "loPTb1G0L2LH"
      },
      "execution_count": null,
      "outputs": []
    }
  ]
}
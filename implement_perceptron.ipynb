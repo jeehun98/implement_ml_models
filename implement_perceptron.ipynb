{
  "nbformat": 4,
  "nbformat_minor": 0,
  "metadata": {
    "colab": {
      "provenance": []
    },
    "kernelspec": {
      "name": "python3",
      "display_name": "Python 3"
    },
    "language_info": {
      "name": "python"
    }
  },
  "cells": [
    {
      "cell_type": "code",
      "execution_count": 17,
      "metadata": {
        "id": "SG-696aRMYos"
      },
      "outputs": [],
      "source": [
        "import numpy as np"
      ]
    },
    {
      "cell_type": "markdown",
      "source": [
        "입력층"
      ],
      "metadata": {
        "id": "IUOVUji5R3Ts"
      }
    },
    {
      "cell_type": "code",
      "source": [
        "input_data = np.array([[2,3],[5,1]])\n",
        "\n",
        "x = input_data.reshape(-1)"
      ],
      "metadata": {
        "id": "u57ZKkmyR1k3"
      },
      "execution_count": 18,
      "outputs": []
    },
    {
      "cell_type": "code",
      "source": [
        "x"
      ],
      "metadata": {
        "colab": {
          "base_uri": "https://localhost:8080/"
        },
        "id": "1dOVHazFR-Zs",
        "outputId": "0d1f96e2-9509-4b46-b502-ebd0e5dce8f4"
      },
      "execution_count": 19,
      "outputs": [
        {
          "output_type": "execute_result",
          "data": {
            "text/plain": [
              "array([2, 3, 5, 1])"
            ]
          },
          "metadata": {},
          "execution_count": 19
        }
      ]
    },
    {
      "cell_type": "markdown",
      "source": [
        "가중치 및 편향"
      ],
      "metadata": {
        "id": "CnLRpG8CSJI9"
      }
    },
    {
      "cell_type": "code",
      "source": [
        "w1 = np.array([2,1,-3,3])\n",
        "w2 = np.array([1,-3,1,3])\n",
        "b1 = 3\n",
        "b2 = 3"
      ],
      "metadata": {
        "id": "YdW02ZfnSEe4"
      },
      "execution_count": 20,
      "outputs": []
    },
    {
      "cell_type": "markdown",
      "source": [
        "가중합"
      ],
      "metadata": {
        "id": "oUX6RYX7SVi2"
      }
    },
    {
      "cell_type": "code",
      "source": [
        "W = np.array([w1,w2])\n",
        "W"
      ],
      "metadata": {
        "colab": {
          "base_uri": "https://localhost:8080/"
        },
        "id": "nFrMInmlSS1R",
        "outputId": "d92df190-a30a-48be-f973-9da6140309a0"
      },
      "execution_count": 21,
      "outputs": [
        {
          "output_type": "execute_result",
          "data": {
            "text/plain": [
              "array([[ 2,  1, -3,  3],\n",
              "       [ 1, -3,  1,  3]])"
            ]
          },
          "metadata": {},
          "execution_count": 21
        }
      ]
    },
    {
      "cell_type": "code",
      "source": [
        "b = np.array([b1,b2])\n",
        "b"
      ],
      "metadata": {
        "colab": {
          "base_uri": "https://localhost:8080/"
        },
        "id": "yVATd5a8SYHw",
        "outputId": "b4d3bd79-ce05-4005-c4a6-a91d360d1ff1"
      },
      "execution_count": 22,
      "outputs": [
        {
          "output_type": "execute_result",
          "data": {
            "text/plain": [
              "array([3, 3])"
            ]
          },
          "metadata": {},
          "execution_count": 22
        }
      ]
    },
    {
      "cell_type": "code",
      "source": [
        "weight_sum = W.dot(x) + b\n",
        "weight_sum"
      ],
      "metadata": {
        "colab": {
          "base_uri": "https://localhost:8080/"
        },
        "id": "VH4D5heGSgQJ",
        "outputId": "abb97f4c-b2ca-455a-85d8-5f40c89e1b5b"
      },
      "execution_count": 23,
      "outputs": [
        {
          "output_type": "execute_result",
          "data": {
            "text/plain": [
              "array([-2,  4])"
            ]
          },
          "metadata": {},
          "execution_count": 23
        }
      ]
    },
    {
      "cell_type": "code",
      "source": [
        "weight_sum2 = np.dot(W, x) + b\n",
        "weight_sum2"
      ],
      "metadata": {
        "colab": {
          "base_uri": "https://localhost:8080/"
        },
        "id": "zzkWp87iSjnp",
        "outputId": "29d434d5-2090-4843-96d3-eff8e22ed193"
      },
      "execution_count": 24,
      "outputs": [
        {
          "output_type": "execute_result",
          "data": {
            "text/plain": [
              "array([-2,  4])"
            ]
          },
          "metadata": {},
          "execution_count": 24
        }
      ]
    },
    {
      "cell_type": "code",
      "source": [
        "weight_sum3 = W@x+b\n",
        "weight_sum3"
      ],
      "metadata": {
        "colab": {
          "base_uri": "https://localhost:8080/"
        },
        "id": "ZTlYrMP-Swg8",
        "outputId": "d2723e00-62a0-4de3-ed61-f42db5572a6b"
      },
      "execution_count": 25,
      "outputs": [
        {
          "output_type": "execute_result",
          "data": {
            "text/plain": [
              "array([-2,  4])"
            ]
          },
          "metadata": {},
          "execution_count": 25
        }
      ]
    },
    {
      "cell_type": "markdown",
      "source": [
        "출력층"
      ],
      "metadata": {
        "id": "4qLs-D1ZUacZ"
      }
    },
    {
      "cell_type": "code",
      "source": [
        "res = 1/(1+np.exp(-weight_sum))\n",
        "res"
      ],
      "metadata": {
        "colab": {
          "base_uri": "https://localhost:8080/"
        },
        "id": "P9VtPrj_TTs0",
        "outputId": "cfea89ec-95de-4673-ed82-7e63510ef540"
      },
      "execution_count": 27,
      "outputs": [
        {
          "output_type": "execute_result",
          "data": {
            "text/plain": [
              "array([0.11920292, 0.98201379])"
            ]
          },
          "metadata": {},
          "execution_count": 27
        }
      ]
    },
    {
      "cell_type": "code",
      "source": [],
      "metadata": {
        "id": "h4iHDYUEUhtL"
      },
      "execution_count": null,
      "outputs": []
    }
  ]
}
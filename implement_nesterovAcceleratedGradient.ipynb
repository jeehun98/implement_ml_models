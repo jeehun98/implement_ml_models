{
  "nbformat": 4,
  "nbformat_minor": 0,
  "metadata": {
    "colab": {
      "provenance": []
    },
    "kernelspec": {
      "name": "python3",
      "display_name": "Python 3"
    },
    "language_info": {
      "name": "python"
    }
  },
  "cells": [
    {
      "cell_type": "code",
      "source": [
        "import numpy as np\n",
        "\n",
        "perch_length = np.array(\n",
        "    [8.4, 13.7, 15.0, 16.2, 17.4, 18.0, 18.7, 19.0, 19.6, 20.0, \n",
        "     21.0, 21.0, 21.0, 21.3, 22.0, 22.0, 22.0, 22.0, 22.0, 22.5, \n",
        "     22.5, 22.7, 23.0, 23.5, 24.0, 24.0, 24.6, 25.0, 25.6, 26.5, \n",
        "     27.3, 27.5, 27.5, 27.5, 28.0, 28.7, 30.0, 32.8, 34.5, 35.0, \n",
        "     36.5, 36.0, 37.0, 37.0, 39.0, 39.0, 39.0, 40.0, 40.0, 40.0, \n",
        "     40.0, 42.0, 43.0, 43.0, 43.5, 44.0]\n",
        "     )\n",
        "perch_weight = np.array(\n",
        "    [5.9, 32.0, 40.0, 51.5, 70.0, 100.0, 78.0, 80.0, 85.0, 85.0, \n",
        "     110.0, 115.0, 125.0, 130.0, 120.0, 120.0, 130.0, 135.0, 110.0, \n",
        "     130.0, 150.0, 145.0, 150.0, 170.0, 225.0, 145.0, 188.0, 180.0, \n",
        "     197.0, 218.0, 300.0, 260.0, 265.0, 250.0, 250.0, 300.0, 320.0, \n",
        "     514.0, 556.0, 840.0, 685.0, 700.0, 700.0, 690.0, 900.0, 650.0, \n",
        "     820.0, 850.0, 900.0, 1015.0, 820.0, 1100.0, 1000.0, 1100.0, \n",
        "     1000.0, 1000.0]\n",
        "     )"
      ],
      "metadata": {
        "id": "Xi4ZZeh3CL9L"
      },
      "execution_count": 15,
      "outputs": []
    },
    {
      "cell_type": "code",
      "source": [
        "# 훈련 세트와 테스트 세트를 2차원 배열로 바꿉니다\n",
        "train_input = perch_length.reshape(-1, 1)\n",
        "test_input = perch_weight.reshape(-1, 1)"
      ],
      "metadata": {
        "id": "bIrYHgzsDsOq"
      },
      "execution_count": 16,
      "outputs": []
    },
    {
      "cell_type": "code",
      "source": [
        "class gradient_descent:\n",
        "  n_iterations = 0  # 데이터 개수\n",
        "  eta = 0.001 # 학습률  \n",
        "  theta = np.random.randn(2,1) # 가중치 무작위 초기화\n",
        "  momentum_p = 0.00009\n",
        "  momentum = 0\n",
        "\n",
        "  def eta(self, eta):\n",
        "    self.eta = eta\n",
        "  \n",
        "  def gradient(self, x, y):\n",
        "    x_b = np.c_[x, np.ones((x.shape[0],1))] # 입력 데이터에 편향값을 위한 1의 추가\n",
        "    self.n_iterations = x.shape[0]\n",
        "    for iterations in range(self.n_iterations):\n",
        "      gradients = (2/self.n_iterations) * x_b.T.dot(x_b.dot(self.theta) - y)\n",
        "      self.theta = self.theta - self.eta * gradients\n",
        "      print(self.theta, gradients)\n",
        "\n",
        "    return self.theta\n",
        "\n",
        "  def gradient_nesterov(self, x, y):\n",
        "    x_b = np.c_[x, np.ones((x.shape[0],1))] # 입력 데이터에 편향값을 위한 1의 추가\n",
        "    self.n_iterations = x.shape[0]\n",
        "\n",
        "    for iterations in range(self.n_iterations):\n",
        "      if iterations != 0:\n",
        "        self.momentum = self.momentum + self.momentum_p * gradients\n",
        "      \n",
        "      gradients = (2/self.n_iterations) * x_b.T.dot(x_b.dot(self.theta-self.momentum) - y)\n",
        "      \n",
        "      self.theta = self.theta - self.eta * gradients - self.momentum\n",
        "\n",
        "    return self.theta\n",
        "\n",
        "  def predict(self, x):\n",
        "    x_b = np.c_[x, np.ones((x.shape[0],1))]\n",
        "    print(x_b, self.theta)\n",
        "    return x_b@(self.theta)"
      ],
      "metadata": {
        "id": "pikNGxIQ68cS"
      },
      "execution_count": 17,
      "outputs": []
    },
    {
      "cell_type": "code",
      "source": [
        "gd2 = gradient_descent()\n",
        "gd2.eta(0.001)\n",
        "w = gd2.gradient_nesterov(train_input, test_input)"
      ],
      "metadata": {
        "id": "VJr5z43W6dxn"
      },
      "execution_count": 18,
      "outputs": []
    },
    {
      "cell_type": "code",
      "source": [
        "w"
      ],
      "metadata": {
        "colab": {
          "base_uri": "https://localhost:8080/"
        },
        "id": "jWGg-teL-hNE",
        "outputId": "df59c733-9b48-48dd-8be5-45b8343786fa"
      },
      "execution_count": 19,
      "outputs": [
        {
          "output_type": "execute_result",
          "data": {
            "text/plain": [
              "array([[ 16.58630584],\n",
              "       [-22.26318678]])"
            ]
          },
          "metadata": {},
          "execution_count": 19
        }
      ]
    },
    {
      "cell_type": "code",
      "source": [
        "gd2.theta"
      ],
      "metadata": {
        "colab": {
          "base_uri": "https://localhost:8080/"
        },
        "id": "O5fb1ebMdIgx",
        "outputId": "9af7972e-9d25-4845-ffcb-4708551d3630"
      },
      "execution_count": 20,
      "outputs": [
        {
          "output_type": "execute_result",
          "data": {
            "text/plain": [
              "array([[ 16.58630584],\n",
              "       [-22.26318678]])"
            ]
          },
          "metadata": {},
          "execution_count": 20
        }
      ]
    },
    {
      "cell_type": "code",
      "source": [
        "gd2.momentum"
      ],
      "metadata": {
        "colab": {
          "base_uri": "https://localhost:8080/"
        },
        "id": "UIlO4W84dLTX",
        "outputId": "33e753af-4806-4535-d439-5c410cebeb80"
      },
      "execution_count": 21,
      "outputs": [
        {
          "output_type": "execute_result",
          "data": {
            "text/plain": [
              "array([[-0.02894401],\n",
              "       [ 0.58978216]])"
            ]
          },
          "metadata": {},
          "execution_count": 21
        }
      ]
    },
    {
      "cell_type": "code",
      "source": [],
      "metadata": {
        "id": "q5jQPie6dP9c"
      },
      "execution_count": 21,
      "outputs": []
    }
  ]
}
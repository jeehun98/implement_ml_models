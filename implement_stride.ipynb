{
  "nbformat": 4,
  "nbformat_minor": 0,
  "metadata": {
    "colab": {
      "provenance": []
    },
    "kernelspec": {
      "name": "python3",
      "display_name": "Python 3"
    },
    "language_info": {
      "name": "python"
    }
  },
  "cells": [
    {
      "cell_type": "code",
      "execution_count": 28,
      "metadata": {
        "id": "GjWYglY6i8on"
      },
      "outputs": [],
      "source": [
        "import numpy as np"
      ]
    },
    {
      "cell_type": "markdown",
      "source": [
        "입력 데이터 생성"
      ],
      "metadata": {
        "id": "20gCi3beG_AL"
      }
    },
    {
      "cell_type": "code",
      "source": [
        "input = np.random.random(16).reshape(4,4)\n",
        "input"
      ],
      "metadata": {
        "colab": {
          "base_uri": "https://localhost:8080/"
        },
        "id": "G0c7aWLdx8VG",
        "outputId": "deea9366-0ebb-4c49-a62c-01e03621edd5"
      },
      "execution_count": 29,
      "outputs": [
        {
          "output_type": "execute_result",
          "data": {
            "text/plain": [
              "array([[0.97590507, 0.30740538, 0.68739551, 0.26278858],\n",
              "       [0.19014576, 0.15334457, 0.97410229, 0.22261541],\n",
              "       [0.92583572, 0.05244915, 0.95115997, 0.80964976],\n",
              "       [0.77616377, 0.21988717, 0.27275726, 0.89007109]])"
            ]
          },
          "metadata": {},
          "execution_count": 29
        }
      ]
    },
    {
      "cell_type": "markdown",
      "source": [
        "가중치 커널 생성"
      ],
      "metadata": {
        "id": "FlZdNk6SHSXN"
      }
    },
    {
      "cell_type": "code",
      "source": [
        "w = np.random.random(4).reshape(2,2)\n",
        "w"
      ],
      "metadata": {
        "colab": {
          "base_uri": "https://localhost:8080/"
        },
        "id": "-TpJqq7aHQHA",
        "outputId": "6d95e5c2-1f95-4cb8-8a64-8afb0097edb4"
      },
      "execution_count": 30,
      "outputs": [
        {
          "output_type": "execute_result",
          "data": {
            "text/plain": [
              "array([[0.64400722, 0.506472  ],\n",
              "       [0.91813639, 0.22772278]])"
            ]
          },
          "metadata": {},
          "execution_count": 30
        }
      ]
    },
    {
      "cell_type": "markdown",
      "source": [
        "합성곱 신경망의 연산은 커널을 플립하지 않은 연산, cross-corelation 을 더 많이 사용한다.\n",
        "\n",
        "동일한 두 크기의 행렬의 원소 곱으로 계산할 수 있을 것"
      ],
      "metadata": {
        "id": "qqhAVz7zICfE"
      }
    },
    {
      "cell_type": "code",
      "source": [
        "result_arr = []\n",
        "\n",
        "for matrix_row in range(input.shape[0]-w.shape[0]+1):\n",
        "  for matrix_col in range(input.shape[1]-w.shape[1]+1):\n",
        "    result = []\n",
        "    for w_row in range(w.shape[0]):\n",
        "      for w_col in range(w.shape[1]):\n",
        "        result.append(input[matrix_row+w_row,matrix_col+w_col] * w[w_row, w_col])\n",
        "    result_arr.append(np.sum(result))"
      ],
      "metadata": {
        "id": "FrWPwnsqyga1"
      },
      "execution_count": 31,
      "outputs": []
    },
    {
      "cell_type": "code",
      "source": [
        "result_arr = []\n",
        "stride_row = 2\n",
        "stride_col = 2\n",
        "\n",
        "for matrix_row in range(0, input.shape[0]-w.shape[0]+1, stride_row):\n",
        "  for matrix_col in range(0, input.shape[1]-w.shape[1]+1, stride_col):\n",
        "    print(matrix_row, matrix_col)\n",
        "    result = []\n",
        "    for w_row in range(w.shape[0]):\n",
        "      for w_col in range(w.shape[1]):\n",
        "        result.append(input[matrix_row+w_row,matrix_col+w_col] * w[w_row, w_col])\n",
        "    result_arr.append(np.sum(result))"
      ],
      "metadata": {
        "colab": {
          "base_uri": "https://localhost:8080/"
        },
        "id": "EAtVmVA-DMzb",
        "outputId": "cec3efa4-63e8-42f0-9454-86dfd0f07290"
      },
      "execution_count": 32,
      "outputs": [
        {
          "output_type": "stream",
          "name": "stdout",
          "text": [
            "0 0\n",
            "0 2\n",
            "2 0\n",
            "2 2\n"
          ]
        }
      ]
    },
    {
      "cell_type": "code",
      "source": [
        "result_arr"
      ],
      "metadata": {
        "colab": {
          "base_uri": "https://localhost:8080/"
        },
        "id": "F5UIgMhl0CYA",
        "outputId": "b571fcf2-a373-4644-a8f6-0460538b7649"
      },
      "execution_count": 33,
      "outputs": [
        {
          "output_type": "execute_result",
          "data": {
            "text/plain": [
              "[0.9936819252205649,\n",
              " 1.5208360953237963,\n",
              " 1.3855064366261072,\n",
              " 1.4757366500760771]"
            ]
          },
          "metadata": {},
          "execution_count": 33
        }
      ]
    },
    {
      "cell_type": "code",
      "source": [
        "result = np.array(result_arr).reshape(int(input.shape[0]-w.shape[0]+1/2),-1)\n",
        "result"
      ],
      "metadata": {
        "colab": {
          "base_uri": "https://localhost:8080/"
        },
        "id": "jCsWL7DXvm0U",
        "outputId": "d96c1513-5eab-4f87-811b-16b2e0814e9f"
      },
      "execution_count": 35,
      "outputs": [
        {
          "output_type": "execute_result",
          "data": {
            "text/plain": [
              "array([[0.99368193, 1.5208361 ],\n",
              "       [1.38550644, 1.47573665]])"
            ]
          },
          "metadata": {},
          "execution_count": 35
        }
      ]
    },
    {
      "cell_type": "code",
      "source": [],
      "metadata": {
        "id": "pBhly67FEWYb"
      },
      "execution_count": 34,
      "outputs": []
    }
  ]
}
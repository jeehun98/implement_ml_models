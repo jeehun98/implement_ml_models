{
  "nbformat": 4,
  "nbformat_minor": 0,
  "metadata": {
    "colab": {
      "provenance": []
    },
    "kernelspec": {
      "name": "python3",
      "display_name": "Python 3"
    },
    "language_info": {
      "name": "python"
    }
  },
  "cells": [
    {
      "cell_type": "code",
      "execution_count": null,
      "metadata": {
        "id": "2MFzpXeQ_lUE"
      },
      "outputs": [],
      "source": [
        "import numpy as np\n",
        "import math"
      ]
    },
    {
      "cell_type": "code",
      "source": [
        "class PolynomialRegression:\n",
        "  def polynomialRegression(self, input, degree):\n",
        "    \"\"\"\n",
        "    다항 회귀\n",
        "    Args\n",
        "      input : 입력 데이터\n",
        "      degree : 특성 항 수\n",
        "    \"\"\"\n",
        "    # 입력 데이터의 마지막 열의 원소 1의 추가\n",
        "    input_b = np.c_[input, np.ones((input.shape[0], 1))]\n",
        "    \n",
        "    # degree 의 개수만큼 반복\n",
        "    for degree_count in range(degree - 1):\n",
        "      # 새로 생성될 데이터 생성\n",
        "      result = np.zeors((input.shape[0], math.factorial(input_b.shape[1] + 2) /\n",
        "                       (math.factorial(input_b.shape[1]) * math.factorial(2))))\n",
        "\n",
        "      # 각 데이터에 대한 연산\n",
        "      for i in range(input_b.shape[1]):\n",
        "        for j in range(input_b.shape[1]):\n",
        "          result[:,i+j] = result[:,i+j] + input_b[:,i] * input_b[:,j]\n",
        "      \n",
        "      input_b = result\n",
        "\n",
        "    return result\n",
        "\n"
      ],
      "metadata": {
        "colab": {
          "base_uri": "https://localhost:8080/",
          "height": 137
        },
        "id": "OtOAADOa_pU5",
        "outputId": "68dc19ea-097c-42c2-dc49-5bde8ef2d52e"
      },
      "execution_count": 1,
      "outputs": [
        {
          "output_type": "error",
          "ename": "SyntaxError",
          "evalue": "ignored",
          "traceback": [
            "\u001b[0;36m  File \u001b[0;32m\"<ipython-input-1-3a16c9c14f7c>\"\u001b[0;36m, line \u001b[0;32m2\u001b[0m\n\u001b[0;31m    def polynomialRegression\u001b[0m\n\u001b[0m                            ^\u001b[0m\n\u001b[0;31mSyntaxError\u001b[0m\u001b[0;31m:\u001b[0m invalid syntax\n"
          ]
        }
      ]
    },
    {
      "cell_type": "code",
      "source": [],
      "metadata": {
        "id": "3vcaCYoEadb-"
      },
      "execution_count": null,
      "outputs": []
    }
  ]
}
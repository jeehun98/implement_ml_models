{
  "nbformat": 4,
  "nbformat_minor": 0,
  "metadata": {
    "colab": {
      "provenance": []
    },
    "kernelspec": {
      "name": "python3",
      "display_name": "Python 3"
    },
    "language_info": {
      "name": "python"
    }
  },
  "cells": [
    {
      "cell_type": "code",
      "execution_count": 22,
      "metadata": {
        "id": "u4pfAzqQxktj"
      },
      "outputs": [],
      "source": [
        "import sympy\n",
        "import numpy as np"
      ]
    },
    {
      "cell_type": "code",
      "execution_count": 23,
      "metadata": {
        "id": "n3WfoOYbyGfq"
      },
      "outputs": [],
      "source": [
        "x = sympy.Symbol('x')\n",
        "f = (x**2 + 2*x)*sympy.log(x) "
      ]
    },
    {
      "cell_type": "code",
      "source": [
        "df = sympy.diff(f, x) \n",
        "df"
      ],
      "metadata": {
        "colab": {
          "base_uri": "https://localhost:8080/",
          "height": 54
        },
        "id": "TqDszGhfCbpI",
        "outputId": "5a893b68-7664-4cd1-b128-8b753c19df1a"
      },
      "execution_count": 24,
      "outputs": [
        {
          "output_type": "execute_result",
          "data": {
            "text/plain": [
              "(2*x + 2)*log(x) + (x**2 + 2*x)/x"
            ],
            "text/latex": "$\\displaystyle \\left(2 x + 2\\right) \\log{\\left(x \\right)} + \\frac{x^{2} + 2 x}{x}$"
          },
          "metadata": {},
          "execution_count": 24
        }
      ]
    },
    {
      "cell_type": "code",
      "source": [
        "sympy.simplify(df)"
      ],
      "metadata": {
        "colab": {
          "base_uri": "https://localhost:8080/",
          "height": 38
        },
        "id": "Rpy_0c0LyUXd",
        "outputId": "3cb2029f-cf0d-4c3a-eb5b-df01337bfb5e"
      },
      "execution_count": 25,
      "outputs": [
        {
          "output_type": "execute_result",
          "data": {
            "text/plain": [
              "x + 2*(x + 1)*log(x) + 2"
            ],
            "text/latex": "$\\displaystyle x + 2 \\left(x + 1\\right) \\log{\\left(x \\right)} + 2$"
          },
          "metadata": {},
          "execution_count": 25
        }
      ]
    },
    {
      "cell_type": "code",
      "source": [
        "df.subs([(x,10)])"
      ],
      "metadata": {
        "colab": {
          "base_uri": "https://localhost:8080/",
          "height": 37
        },
        "id": "nYYp9OtHCse5",
        "outputId": "420a26e0-2a7d-4035-d4e5-228383f3d7c8"
      },
      "execution_count": 26,
      "outputs": [
        {
          "output_type": "execute_result",
          "data": {
            "text/plain": [
              "12 + 22*log(10)"
            ],
            "text/latex": "$\\displaystyle 12 + 22 \\log{\\left(10 \\right)}$"
          },
          "metadata": {},
          "execution_count": 26
        }
      ]
    },
    {
      "cell_type": "code",
      "source": [
        "1/(1+np.exp(-2.7))"
      ],
      "metadata": {
        "colab": {
          "base_uri": "https://localhost:8080/"
        },
        "id": "b9IYZ8ebCt0N",
        "outputId": "0fdca075-e53c-4c5e-c64f-108375b3463f"
      },
      "execution_count": 27,
      "outputs": [
        {
          "output_type": "execute_result",
          "data": {
            "text/plain": [
              "0.9370266439430035"
            ]
          },
          "metadata": {},
          "execution_count": 27
        }
      ]
    },
    {
      "cell_type": "markdown",
      "source": [
        "오차 제곱합의 비용 함수"
      ],
      "metadata": {
        "id": "0lMe5J-gLHXR"
      }
    },
    {
      "cell_type": "code",
      "source": [
        "Y = sympy.Symbol('Y')\n",
        "T = sympy.Symbol('T')"
      ],
      "metadata": {
        "id": "HYDdmqxdLUL8"
      },
      "execution_count": 28,
      "outputs": []
    },
    {
      "cell_type": "code",
      "source": [
        "C = 1/2*(Y-T)**2"
      ],
      "metadata": {
        "id": "ByF1NVjpL7b1"
      },
      "execution_count": 29,
      "outputs": []
    },
    {
      "cell_type": "code",
      "source": [
        "d_C = sympy.diff(C, Y)"
      ],
      "metadata": {
        "id": "ysYC87mYC9rS"
      },
      "execution_count": 30,
      "outputs": []
    },
    {
      "cell_type": "code",
      "source": [
        "d_C"
      ],
      "metadata": {
        "colab": {
          "base_uri": "https://localhost:8080/",
          "height": 38
        },
        "id": "lCwRBGQjDCA2",
        "outputId": "4cb4b192-e1de-4c0e-ac0d-1cc7cbde074f"
      },
      "execution_count": 31,
      "outputs": [
        {
          "output_type": "execute_result",
          "data": {
            "text/plain": [
              "-1.0*T + 1.0*Y"
            ],
            "text/latex": "$\\displaystyle - 1.0 T + 1.0 Y$"
          },
          "metadata": {},
          "execution_count": 31
        }
      ]
    },
    {
      "cell_type": "code",
      "source": [
        "matrix_Y = [1,2]"
      ],
      "metadata": {
        "id": "MLMstd4hDMQA"
      },
      "execution_count": 32,
      "outputs": []
    },
    {
      "cell_type": "code",
      "source": [
        "matrix_X = [7,8]"
      ],
      "metadata": {
        "id": "epwO8GnKNNzI"
      },
      "execution_count": 33,
      "outputs": []
    },
    {
      "cell_type": "code",
      "source": [
        "a = d_C.subs([(Y,1),(T,2)])\n",
        "a"
      ],
      "metadata": {
        "colab": {
          "base_uri": "https://localhost:8080/",
          "height": 37
        },
        "id": "TOFji_48NRTK",
        "outputId": "bbea625c-b852-42b6-ed82-889880f9ebac"
      },
      "execution_count": 34,
      "outputs": [
        {
          "output_type": "execute_result",
          "data": {
            "text/plain": [
              "-1.00000000000000"
            ],
            "text/latex": "$\\displaystyle -1.0$"
          },
          "metadata": {},
          "execution_count": 34
        }
      ]
    },
    {
      "cell_type": "markdown",
      "source": [
        "활성화 함수 시그모이드 함수 "
      ],
      "metadata": {
        "id": "KijbjrHQ5fcj"
      }
    },
    {
      "cell_type": "code",
      "source": [
        "X = sympy.Symbol('X')"
      ],
      "metadata": {
        "id": "wsrK2qTHtb6F"
      },
      "execution_count": 35,
      "outputs": []
    },
    {
      "cell_type": "code",
      "source": [
        "fa = 1/(1+sympy.exp(-X))"
      ],
      "metadata": {
        "id": "y7pVKBIp5jys"
      },
      "execution_count": 36,
      "outputs": []
    },
    {
      "cell_type": "code",
      "source": [
        "fa"
      ],
      "metadata": {
        "colab": {
          "base_uri": "https://localhost:8080/",
          "height": 52
        },
        "id": "xwdK6S3SBFio",
        "outputId": "9106391b-100e-4c3f-a6c5-b942dee8e0da"
      },
      "execution_count": 37,
      "outputs": [
        {
          "output_type": "execute_result",
          "data": {
            "text/plain": [
              "1/(1 + exp(-X))"
            ],
            "text/latex": "$\\displaystyle \\frac{1}{1 + e^{- X}}$"
          },
          "metadata": {},
          "execution_count": 37
        }
      ]
    },
    {
      "cell_type": "code",
      "source": [
        "d_fa = sympy.diff(fa, X)"
      ],
      "metadata": {
        "id": "bcG0RmPxBFuX"
      },
      "execution_count": 38,
      "outputs": []
    },
    {
      "cell_type": "code",
      "source": [
        "d_fa"
      ],
      "metadata": {
        "colab": {
          "base_uri": "https://localhost:8080/",
          "height": 62
        },
        "id": "VgwkqFQfFwEl",
        "outputId": "ff0ba11c-22bc-4b70-cbc8-76a3fc3f0d00"
      },
      "execution_count": 39,
      "outputs": [
        {
          "output_type": "execute_result",
          "data": {
            "text/plain": [
              "exp(-X)/(1 + exp(-X))**2"
            ],
            "text/latex": "$\\displaystyle \\frac{e^{- X}}{\\left(1 + e^{- X}\\right)^{2}}$"
          },
          "metadata": {},
          "execution_count": 39
        }
      ]
    },
    {
      "cell_type": "code",
      "source": [
        "sympy.simplify(d_fa)"
      ],
      "metadata": {
        "colab": {
          "base_uri": "https://localhost:8080/",
          "height": 59
        },
        "id": "HFaa05zfFwfz",
        "outputId": "eed8beb3-adaf-4538-947c-f1095f9042c9"
      },
      "execution_count": 40,
      "outputs": [
        {
          "output_type": "execute_result",
          "data": {
            "text/plain": [
              "1/(4*cosh(X/2)**2)"
            ],
            "text/latex": "$\\displaystyle \\frac{1}{4 \\cosh^{2}{\\left(\\frac{X}{2} \\right)}}$"
          },
          "metadata": {},
          "execution_count": 40
        }
      ]
    },
    {
      "cell_type": "code",
      "source": [
        "sympy.simplify(d_C)"
      ],
      "metadata": {
        "colab": {
          "base_uri": "https://localhost:8080/",
          "height": 38
        },
        "id": "tt1M-DI9F8Nx",
        "outputId": "9f1b268c-7788-45ef-fa37-75edecdfe8a5"
      },
      "execution_count": 41,
      "outputs": [
        {
          "output_type": "execute_result",
          "data": {
            "text/plain": [
              "-1.0*T + 1.0*Y"
            ],
            "text/latex": "$\\displaystyle - 1.0 T + 1.0 Y$"
          },
          "metadata": {},
          "execution_count": 41
        }
      ]
    },
    {
      "cell_type": "code",
      "source": [],
      "metadata": {
        "id": "8AUHvw7PGjMH"
      },
      "execution_count": null,
      "outputs": []
    }
  ]
}